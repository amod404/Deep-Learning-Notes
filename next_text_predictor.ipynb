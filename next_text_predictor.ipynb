{
  "nbformat": 4,
  "nbformat_minor": 0,
  "metadata": {
    "colab": {
      "provenance": [],
      "gpuType": "T4",
      "authorship_tag": "ABX9TyNgZHa7+bPAcH50+u+nrctG",
      "include_colab_link": true
    },
    "kernelspec": {
      "name": "python3",
      "display_name": "Python 3"
    },
    "language_info": {
      "name": "python"
    },
    "accelerator": "GPU"
  },
  "cells": [
    {
      "cell_type": "markdown",
      "metadata": {
        "id": "view-in-github",
        "colab_type": "text"
      },
      "source": [
        "<a href=\"https://colab.research.google.com/github/amod404/Deep-Learning-Notes/blob/master/next_text_predictor.ipynb\" target=\"_parent\"><img src=\"https://colab.research.google.com/assets/colab-badge.svg\" alt=\"Open In Colab\"/></a>"
      ]
    },
    {
      "cell_type": "code",
      "source": [
        "faqs = \"\"\"\n",
        "  I took my degree of Doctor of Medicine of the University of London, and proceeded to Netley to go through the course prescribed for surgeons in the Army. Having completed my studies there, I was duly attached to the Fifth Northumberland Fusiliers as assistant surgeon. The regiment was stationed in India at the time, and before I could join it, the second Afghan war had broken out. On landing at Bombay, I learned that my corps had advanced through the passes, and was already deep in the enemy's country. I followed, however, with many other officers who were in the same situation as myself, and succeeded in reaching Candahar in safety, where I found my regiment, and at once entered upon my new duties.\n",
        "\n",
        "The campaign brought honours and promotion to many, but for me it had nothing but misfortune and disaster. I was removed from my brigade and attached to the Berkshires, with whom I served at the fatal battle of Maiwand. There I was struck on the shoulder by a Jezail bullet, which shattered the bone and grazed the subclavian artery. I should have fallen into the hands of the murderous Ghazis had it not been for the devotion and courage shown by Murray, my orderly, who threw me across a pack-horse, and succeeded in bringing me safely to the British lines.\n",
        "\n",
        "Worn with pain, and weak from the prolonged hardships which I had undergone, I was removed, with a great train of wounded sufferers, to the base hospital at Peshawar. Here I rallied, and had already improved so far as to be able to walk about the wards, and even to bask a little upon the veranda, when I was struck down by enteric fever, that curse of our Indian possessions. For months my life was despaired of, and when at last I came to myself and became convalescent, I was so weak and emaciated that a medical board determined that not a day should be lost in sending me back to England. I was despatched, accordingly, in the troopship Orontes, and landed a month later on Portsmouth jetty, with my health irretrievably ruined, but with permission from a paternal government to spend the next nine months in attempting to improve it.\n",
        "\n",
        "I had neither kith nor kin in England, and was therefore as free as air-or as free as an income of eleven shillings and sixpence a day will permit a man to be. Under such circumstances I naturally gravitated to London, that great cesspool into which all the loungers and idlers of the Empire are irresistibly drained. There I stayed for some time at a private hotel in the Strand, leading a comfortless, meaningless existence, and spending such money as I had, considerably more freely than I ought. So alarming did the state of my finances become, that I soon realized that I must either leave the metropolis and rusticate somewhere in the country, or that I must make a complete alteration in my style of living. Choosing the latter alternative, I began by making up my mind to leave the hotel, and take up my quarters in some less pretentious and less expensive domicile.\n",
        "\n",
        "On the very day that I had come to this conclusion, I was standing at the Criterion Bar, when someone tapped me on the shoulder, and turning round I recognized young Stamford, who had been a dresser under me at Bart's. The sight of a friendly face in the great wilderness of London is a pleasant thing indeed to a lonely man. In old days Stamford had never been a particular crony of mine, but now I hailed him with enthusiasm, and he, in his turn, appeared to be delighted to see me. In the exuberance of my joy, I asked him to lunch with me at the Holborn, and we started off together in a hansom.\n",
        "\n",
        "\"Whatever have you been doing with yourself, Watson?\" he asked in undisguised wonder, as we rattled through the crowded London streets. \"You are as thin as a lath and as brown as a nut.\"\n",
        "\n",
        "I gave him a short sketch of my adventures, and had hardly concluded it by the time that we reached our destination.\n",
        "\n",
        "\"Poor devil!\" he said, commiseratingly, after he had listened to my misfortunes. \"What are you up to now?\"\n",
        "\n",
        "\"Looking for lodgings,\" I answered. \"Trying to solve the problem as to whether it is possible to get comfortable rooms at a reasonable price.\"\n",
        "\n",
        "\"That's a strange thing,\" remarked my companion; \"you are the second man to-day that has used that expression to me.\"\n",
        "\n",
        "\"And who was the first?\" I asked.\n",
        "\n",
        "\"A fellow who is working at the chemical laboratory up at the hospital. He was bemoaning himself this morning because he could not get someone to go halves with him in some nice rooms which he had found, and which were too much for his purse.\"\n",
        "\n",
        "\"By Jove!\" I cried; \"if he really wants someone to share the rooms and the expense, I am the very man for him. I should prefer having a partner to being alone.\"\n",
        "\n",
        "Young Stamford looked rather strangely at me over his wineglass. \"You don't know Sherlock Holmes yet,\" he said; \"perhaps you would not care for him as a constant companion.\"\n",
        "\n",
        "\"Why, what is there against him?\"\n",
        "\n",
        "\"Oh, I didn't say there was anything against him. He is a little queer in his ideas--an enthusiast in some branches of science. As far as I know he is a decent fellow enough.\"\n",
        "\n",
        "\"A medical student, I suppose?\" said I.\n",
        "\n",
        "\"No--I have no idea what he intends to go in for. I believe he is well up in anatomy, and he is a first-class chemist; but, as far as I know, he has never taken out any systematic medical classes. His studies are very desultory and eccentric, but he has amassed a lot of out-of-the-way knowledge which would astonish his professors.\"\n",
        "\n",
        "\"Did you never ask him what he was going in for?\" I asked.\n",
        "\n",
        "\"No; he is not a man that it is easy to draw out, though he can be communicative enough when the fancy seizes him.\"\n",
        "\n",
        "\"I should like to meet him,\" I said. \"If I am to lodge with anyone, I should prefer a man of studious and quiet habits. I am not strong enough yet to stand much noise or excitement. I had enough of both in Afghanistan to last me for the remainder of my natural existence. How could I meet this friend of yours?\"\n",
        "\n",
        "\"He is sure to be at the laboratory,\" returned my companion. \"He either avoids the place for weeks, or else he works there from morning till night. If you like, we will drive round together after luncheon.\"\n",
        "\n",
        "\"Certainly,\" I answered, and the conversation drifted away into other channels.\n",
        "\n",
        "As we made our way to the hospital after leaving the Holborn, Stamford gave me a few more particulars about the gentleman whom I proposed to take as a fellow-lodger.\n",
        "\n",
        "\"You mustn't blame me if you don't get on with him,\" he said; \"I know nothing more of him than I have learned from meeting him occasionally in the laboratory. You proposed this arrangement, so you must not hold me responsible.\"\n",
        "\n",
        "\"If we don't get on it will be easy to part company,\" I answered. \"It seems to me, Stamford,\" I added, looking hard at my companion, \"that you have some reason for washing your hands of the matter. Is this fellow's temper so formidable, or what is it? Don't be mealymouthed about it.\"\n",
        "\n",
        "\"It is not easy to express the inexpressible,\" he answered with a laugh. \"Holmes is a little too scientific for my tastes--it approaches to cold-bloodedness. I could imagine his giving a friend a little pinch of the latest vegetable alkaloid, not out of malevolence, you understand, but simply out of a spirit of inquiry in order to have an accurate idea of the effects. To do him justice, I think that he would take it himself with the same readiness. He appears to have a passion for definite and exact knowledge.\"\n",
        "\n",
        "\"Very right too.\"\n",
        "\n",
        "\"Yes, but it may be pushed to excess. When it comes to beating the subjects in the dissecting-rooms with a stick, it is certainly taking rather a bizarre shape.\"\n",
        "\n",
        "\"Beating the subjects!\"\n",
        "\n",
        "\"Yes, to verify how far bruises may be produced after death. I saw him at it with my own eyes.\"\n",
        "\n",
        "\"And yet you say he is not a medical student?\"\n",
        "\n",
        "\"No. Heaven knows what the objects of his studies are. But here we are, and you must form your own impressions about him.\" As he spoke, we turned down a narrow lane and passed through a small side-door, which opened into a wing of the great hospital. It was familiar ground to me, and I needed no guiding as we ascended the bleak stone staircase and made our way down the long corridor with its vista of whitewashed wall and dun-coloured doors. Near the farther end a low arched passage branched away from it and led to the chemical laboratory.\n",
        "\n",
        "This was a lofty chamber, lined and littered with countless bottles.\n",
        "\n",
        "Broad, low tables were scattered about, which bristled with retorts, test-tubes, and little Bunsen lamps, with their blue flickering flames. There was only one student in the room, who was bending over a distant table absorbed in his work. At the sound of our steps he glanced round and sprang to his feet with a cry of pleasure. \"I've found it! I've found it,\" he shouted to my companion, running towards us with a test-tube in his hand. \"I have found a re-agent which is precipitated by haemoglobin, and by nothing else.\" Had he discovered a gold mine, greater delight could not have shone upon his features.\n",
        "\n",
        "\"Dr. Watson, Mr. Sherlock Holmes,\" said Stamford, introducing us.\n",
        "\n",
        "\"How are you?\" he said cordially, gripping my hand with a strength for which I should hardly have given him credit. \"You have been in Afghanistan, I perceive.\"\n",
        "\n",
        "\"How on earth did you know that?\" I asked in astonishment.\n",
        "\n",
        "\"Never mind,\" said he, chuckling to himself. \"The question now is about haemoglobin. No doubt you see the significance of this discovery of mine?\"\n",
        "\n",
        "\"It is interesting, chemically, no doubt,\" I answered, \"but practically-- --\"\n",
        "\n",
        "\"Why, man, it is the most practical medico-legal discovery for years. Don't you see that it gives us an infallible test for blood stains? Come over here now!\" He seized me by the coat-sleeve in his eagerness, and drew me over to the table at which he had been working. \"Let us have some fresh blood,\" he said, digging a long bodkin into his finger, and drawing off the resulting drop of blood in a chemical pipette. \"Now, I add this small quantity of blood to a litre of water. You perceive that the resulting mixture has the appearance of pure water. The proportion of blood cannot be more than one in a million. I have no doubt, however, that we shall be able to obtain the characteristic reaction.\" As he spoke, he threw into the vessel a few white crystals, and then added some drops of a transparent fluid. In an instant the contents assumed a dull mahogany colour, and a brownish dust was precipitated to the bottom of the glass jar.\n",
        "\n",
        "\"Ha! ha!\" he cried, clapping his hands, and looking as delighted as a child with a new toy. \"What do you think of that?\"\n",
        "\n",
        "\"It seems to be a very delicate test,\" I remarked.\n",
        "\n",
        "\"Beautiful! beautiful! The old guaiacum test was very clumsy and uncertain. So is the microscopic examination for blood corpuscles. The latter is valueless if the stains are a few hours old. Now, this appears to act as well whether the blood is old or new. Had this test been invented, there are hundreds of men now walking the earth who would long ago have paid the penalty of their crimes.\"\n",
        "\n",
        "\"Indeed!\" I murmured.\n",
        "\n",
        "\"Criminal cases are continually hinging upon that one point. A man is suspected of a crime months perhaps after it has been committed. His linen or clothes are examined and brownish stains discovered upon them. Are they blood stains, or mud stains, or rust stains, or fruit stains, or what are they? That is a question which has puzzled many an expert, and why? Because there was no reliable test. Now we have the Sherlock Holmes's test, and there will no longer be any difficulty.\"\n",
        "\n",
        "His eyes fairly glittered as he spoke, and he put his hand over his heart and bowed as if to some applauding crowd conjured up by his imagination.\n",
        "\n",
        "\"You are to be congratulated,\" I remarked, considerably surprised at his enthusiasm.\n",
        "\n",
        "\"There was the case of Von Bischoff at Frankfort last year. He would certainly have been hung had this test been in existence. Then there was Mason of Bradford, and the notorious Muller, and Lefevre of Montpellier, and Samson of New Orleans. I could name a score of cases in which it would have been decisive.\"\n",
        "\n",
        "\"You seem to be a walking calendar of crime,\" said Stamford with a laugh. \"You might start a paper on those lines. Call it the 'Police News of the Past.'\"\n",
        "\n",
        "\"Very interesting reading it might be made, too,\" remarked Sherlock Holmes, sticking a small piece of plaster over the prick on his finger. \"I have to be careful,\" he continued, turning to me with a smile, \"for I dabble with poisons a good deal.\" He held out his hand as he spoke, and I noticed that it was all mottled over with similar pieces of plaster, and discoloured with strong acids.\n",
        "\n",
        "\"We came here on business,\" said Stamford, sitting down on a high three-legged stool, and pushing another one in my direction with his foot. \"My friend here wants to take diggings; and as you were complaining that you could get no one to go halves with you, I thought that I had better bring you together.\"\n",
        "\n",
        "Sherlock Holmes seemed delighted at the idea of sharing his rooms with me. \"I have my eye on a suite in Baker Street,\" he said, \"which would suit us down to the ground. You don't mind the smell of strong tobacco, I hope?\"\n",
        "\n",
        "\"I always smoke 'ship's' myself,\" I answered.\n",
        "\n",
        "\"That's good enough. I generally have chemicals about, and occasionally do experiments. Would that annoy you?\"\n",
        "\n",
        "\"By no means.\"\n",
        "\n",
        "\"Let me see--what are my other shortcomings? I get in the dumps at times, and don't open my mouth for days on end. You must not think I am sulky when I do that. Just let me alone, and I'll soon be right. What have you to confess now? It's just as well for two fellows to know the worst of one another before they begin to live together.\"\n",
        "\n",
        "I laughed at this cross-examination. \"I keep a bull pup,\" I said, \"and I object to rows because my nerves are shaken, and I get up at all sorts of ungodly hours, and I am extremely lazy. I have another set of vices when I'm well, but those are the principal ones at present.\"\n",
        "\n",
        "\"Do you include violin playing in your category of rows?\" he asked, anxiously.\n",
        "\n",
        "\"It depends on the player,\" I answered. \"A well-played violin is a treat for the gods--a badly played one-- --\"\n",
        "\n",
        "\"Oh, that's all right,\" he cried, with a merry laugh. \"I think we may consider the thing as settled--that is, if the rooms are agreeable to you.\"\n",
        "\n",
        "\"When shall we see them?\"\n",
        "\n",
        "\"Call for me here at noon to-morrow, and we'll go together and settle everything,\" he answered.\n",
        "\n",
        "\"All right--noon exactly,\" said I, shaking his hand.\n",
        "\n",
        "We left him working among his chemicals, and we walked together towards my hotel.\n",
        "\n",
        "\"By the way,\" I asked suddenly, stopping and turning upon Stamford, \"how the deuce did he know that I had come from Afghanistan?\"\n",
        "\n",
        "My companion smiled an enigmatical smile. \"That's just his little peculiarity,\" he said. \"A good many people have wanted to know how he finds things out.\"\n",
        "\n",
        "\"Oh! a mystery is it?\" I cried, rubbing my hands. \"This is very piquant.\n",
        "\n",
        "I am much obliged to you for bringing us together. 'The proper study of mankind is man,' you know.\"\n",
        "\n",
        "\"You must study him, then,\" Stamford said, as he bade me good-bye. \"You'll find him a knotty problem, though. I'll wager he learns more about you than you about him. Good-bye.\"\n",
        "\n",
        "\"Good-bye,\" I answered, and strolled on to my hotel, considerably interested in my new acquaintance.\n",
        "\n",
        "\n",
        "\n",
        "They consisted of a couple of comfortable bedrooms and a single large airy sitting-room, cheerfully furnished, and illuminated by two broad windows. So desirable in every way were the apartments, and so moderate did the terms seem when divided between us, that the bargain was concluded upon the spot, and we at once entered into possession. That very evening I moved my things round from the hotel, and on the following morning Sherlock Holmes followed me with several boxes and portmanteaus. For a day or two we were busily employed in unpacking and laying out our property to the best advantage. That done, we gradually began to settle down and to accommodate ourselves to our new surroundings.\n",
        "\n",
        "Holmes was certainly not a difficult man to live with. He was quiet in his ways, and his habits were regular. It was rare for him to be up after ten at night, and he had invariably breakfasted and gone out before I rose in the morning. Sometimes he spent his day at the chemical laboratory, sometimes in the dissecting-rooms, and occasionally in long walks, which appeared to take him into the lowest portions of the city. Nothing could exceed his energy when the working fit was upon him; but now and again a reaction would seize him, and for days on end he would lie upon the sofa in the sitting-room, hardly uttering a word or moving a muscle from morning to night. On these occasions I have noticed such a dreamy, vacant expression in his eyes, that I might have suspected him of being addicted to the use of some narcotic, had not the temperance and cleanliness of his whole life forbidden such a notion.\n",
        "\n",
        "As the weeks went by, my interest in him and my curiosity as to his aims in life gradually deepened and increased. His very person and appearance were such as to strike the attention of the most casual observer. In height he was rather over six feet, and so excessively lean that he seemed to be considerably taller. His eyes were sharp and piercing, save during those intervals of torpor to which I have alluded; and his thin, hawk-like nose gave his whole expression an air of alertness and decision. His chin, too, had the prominence and squareness which mark the man of determination. His hands were invariably blotted with ink and stained with chemicals, yet he was possessed of extraordinary delicacy of touch, as I frequently had occasion to observe when I watched him manipulating his fragile philosophical instruments.\n",
        "\n",
        "The reader may set me down as a hopeless busybody, when I confess how much this man stimulated my curiosity, and how often I endeavoured to break through the reticence which he showed on all that concerned himself. Before pronouncing judgment, however, be it remembered how objectless was my life, and how little there was to engage my attention. My health forbade me from venturing out unless the weather was exceptionally genial, and I had no friends who would call upon me and break the monotony of my daily existence. Under these circumstances, I eagerly hailed the little mystery which hung around my companion, and spent much of my time in endeavouring to unravel it.\n",
        "\n",
        "He was not studying medicine. He had himself, in reply to a question, confirmed Stamford's opinion upon that point. Neither did he appear to have pursued any course of reading which might fit him for a degree in science or any other recognized portal which would give him an entrance into the learned world. Yet his zeal for certain studies was remarkable, and within eccentric limits his knowledge was so extraordinarily ample and minute that his observations have fairly astounded me. Surely no man would work so hard or attain such precise information unless he had some definite end in view. Desultory readers are seldom remarkable for the exactness of their learning. No man burdens his mind with small matters unless he has some very good reason for doing so.\n",
        "\n",
        "His ignorance was as remarkable as his knowledge. Of contemporary literature, philosophy and politics he appeared to know next to nothing. Upon my quoting Thomas Carlyle, he inquired in the naivest way who he might be and what he had done. My surprise reached a climax, however, when I found incidentally that he was ignorant of the Copernican Theory and of the composition of the Solar System. That any civilized human being in this nineteenth century should not be aware that the earth travelled round the sun appeared to me to be such an extraordinary fact that I could hardly realize it.\n",
        "\n",
        "\"You appear to be astonished,\" he said, smiling at my expression of surprise. \"Now that I do know it I shall do my best to forget it.\"\n",
        "\n",
        "\"To forget it!\"\n",
        "\n",
        "\"You see,\" he explained, \"I consider that a man's brain originally is like a little empty attic, and you have to stock it with such furniture as you choose. A fool takes in all the lumber of every sort that he comes across, so that the knowledge which might be useful to him gets crowded out, or at best is jumbled up with a lot of other things, so that he has a difficulty in laying his hands upon it. Now the skilful workman is very careful indeed as to what he takes into his brain-attic. He will have nothing but the tools which may help him in doing his work, but of these he has a large assortment, and all in the most perfect order. It is a mistake to think that that little room has elastic walls and can distend to any extent. Depend upon it there comes a time when for every addition of knowledge you forget something that you knew before. It is of the highest importance, therefore, not to have useless facts elbowing out the useful ones.\"\n",
        "\n",
        "\"But the Solar System!\" I protested.\n",
        "\n",
        "\"What the deuce is it to me?\" he interrupted impatiently: \"you say that we go round the sun. If we went round the moon it would not make a pennyworth of difference to me or to my work.\"\n",
        "\n",
        "I was on the point of asking him what that work might be, but something in his manner showed me that the question would be an unwelcome one. I pondered over our short conversation, however, and endeavoured to draw my deductions from it. He said that he would acquire no knowledge which did not bear upon his object. Therefore all the knowledge which he possessed was such as would be useful to him. I enumerated in my own mind all the various points upon which he had shown me that he was exceptionally well informed. I even took a pencil and jotted them down. I could not help smiling at the document when I had completed it. It ran in this way:\n",
        "\n",
        "Sherlock Holmes--his limits:\n",
        "\n",
        "Knowledge of Literature.--Nil.\n",
        "Philosophy.--Nil.\n",
        "Astronomy.--Nil.\n",
        "Politics.--Feeble.\n",
        "Botany.--Variable. Well up in belladonna, opium, and poisons generally. Knows nothing of practical gardening.\n",
        "Knowledge of Geology.--Practical, but limited. Tells at a glance different soils from each other. After walks has shown me splashes upon his trousers, and told me by their colour and consistence in what part of London he had received them.\n",
        "Knowledge of Chemistry.--Profound.\n",
        "Anatomy.--Accurate, but unsystematic.\n",
        "Sensational Literature.--Immense. He appears to know every detail of every horror perpetrated in the century.\n",
        "Plays the violin well.\n",
        "Is an expert singlestick player, boxer, and swordsman.\n",
        "Has a good practical knowledge of British law.\n",
        "When I had got so far in my list I threw it into the fire in despair. \"If I can only find what the fellow is driving at by reconciling all these accomplishments, and discovering a calling which needs them all,\" I said to myself, \"I may as well give up the attempt at once.\"\n",
        "\n",
        "I see that I have alluded above to his powers upon the violin. These were very remarkable, but as eccentric as all his other accomplishments. That he could play pieces, and difficult pieces, I knew well, because at my request he has played me some of Mendelssohn's Lieder, and other favourites. When left to himself, however, he would seldom produce any music or attempt any recognized air. Leaning back in his armchair of an evening, he would close his eyes and scrape carelessly at the fiddle which was thrown across his knee. Sometimes the chords were sonorous and melancholy. Occasionally they were fantastic and cheerful. Clearly they reflected the thoughts which possessed him, but whether the music aided those thoughts, or whether the playing was simply the result of a whim or fancy, was more than I could determine. I might have rebelled against these exasperating solos had it not been that he usually terminated them by playing in quick succession a whole series of my favourite airs as a slight compensation for the trial upon my patience.\n",
        "\n",
        "During the first week or so we had no callers, and I had begun to think that my companion was as friendless a man as I was myself. Presently, however, I found that he had many acquaintances, and those in the most different classes of society. There was one little sallow, rat-faced, dark-eyed fellow, who was introduced to me as Mr. Lestrade, and who came three or four times in a single week. One morning a young girl called, fashionably dressed, and stayed for half an hour or more. The same afternoon brought a gray-headed, seedy visitor, looking like a Jew peddler, who appeared to me to be much excited, and who was closely followed by a slipshod elderly woman. On another occasion an old white-haired gentleman had an interview with my companion; and on another, a railway porter in his velveteen uniform. When any of these nondescript individuals put in an appearance, Sherlock Holmes used to beg for the use of the sitting-room, and I would retire to my bedroom. He always apologized to me for putting me to this inconvenience. \"I have to use this room as a place of business,\" he said, \"and these people are my clients.\" Again I had an opportunity of asking him a point-blank question, and again my delicacy prevented me from forcing another man to confide in me. I imagined at the time that he had some strong reason for not alluding to it, but he soon dispelled the idea by coming round to the subject of his own accord.\n",
        "\n",
        "It was upon the 4th of March, as I have good reason to remember, that I rose somewhat earlier than usual, and found that Sherlock Holmes had not yet finished his breakfast. The landlady had become so accustomed to my late habits that my place had not been laid nor my coffee prepared. With the unreasonable petulance of mankind I rang the bell and gave a curt intimation that I was ready. Then I picked up a magazine from the table and attempted to while away the time with it, while my companion munched silently at his toast. One of the articles had a pencil mark at the heading, and I naturally began to run my eye through it.\n",
        "\n",
        "Its somewhat ambitious title was \"The Book of Life,\" and it attempted to show how much an observant man might learn by an accurate and systematic examination of all that came in his way. It struck me as being a remarkable mixture of shrewdness and of absurdity. The reasoning was close and intense, but the deductions appeared to me to be far fetched and exaggerated. The writer claimed by a momentary expression, a twitch of a muscle or a glance of an eye, to fathom a man's inmost thoughts. Deceit, according to him, was an impossibility in the case of one trained to observation and analysis. His conclusions were as infallible as so many propositions of Euclid. So startling would his results appear to the uninitiated that until they learned the processes by which he had arrived at them they might well consider him as a necromancer.\n",
        "\n",
        "\"From a drop of water,\" said the writer, \"a logician could infer the possibility of an Atlantic or a Niagara without having seen or heard of one or the other. So all life is a great chain, the nature of which is known whenever we are shown a single link of it. Like all other arts, the Science of Deduction and Analysis is one which can only be acquired by long and patient study, nor is life long enough to allow any mortal to attain the highest possible perfection in it. Before turning to those moral and mental aspects of the matter which present the greatest difficulties, let the inquirer begin by mastering more elementary problems. Let him, on meeting a fellow-mortal, learn at a glance to distinguish the history of the man, and the trade or profession to which he belongs. Puerile as such an exercise may seem, it sharpens the faculties of observation, and teaches one where to look and what to look for. By a man's finger-nails, by his coat-sleeve, by his boots, by his trouser-knees, by the callosities of his forefinger and thumb, by his expression, by his shirt-cuffs --by each of these things a man's calling is plainly revealed. That all united should fail to enlighten the competent inquirer in any case is almost inconceivable.\"\n",
        "\n",
        "\"What ineffable twaddle!\" I cried, slapping the magazine down on the table; \"I never read such rubbish in my life.\"\n",
        "\n",
        "\"What is it?\" asked Sherlock Holmes.\n",
        "\n",
        "\"Why, this article,\" I said, pointing at it with my eggspoon as I sat down to my breakfast. \"I see that you have read it since you have marked it. I don't deny that it is smartly written. It irritates me, though. It is evidently the theory of some armchair lounger who evolves all these neat little paradoxes in the seclusion of his own study. It is not practical. I should like to see him clapped down in a third-class carriage on the Underground, and asked to give the trades of all his fellow-travellers. I would lay a thousand to one against him.\"\n",
        "\n",
        "\"You would lose your money,\" Holmes remarked calmly. \"As for the article, I wrote it myself.\"\n",
        "\n",
        "\"You!\"\n",
        "\n",
        "\"Yes; I have a turn both for observation and for deduction. The theories which I have expressed there, and which appear to you to be so chimerical, are really extremely practical--so practical that I depend upon them for my bread and cheese.\"\n",
        "\n",
        "\"And how?\" I asked involuntarily.\n",
        "\n",
        "\"Well, I have a trade of my own. I suppose I am the only one in the world. I'm a consulting detective, if you can understand what that is. Here in London we have lots of government detectives and lots of private ones. When these fellows are at fault, they come to me, and I manage to put them on the right scent. They lay all the evidence before me, and I am generally able, by the help of my knowledge of the history of crime, to set them straight. There is a strong family resemblance about misdeeds, and if you have all the details of a thousand at your finger ends, it is odd if you can't unravel the thousand and first. Lestrade is a well-known detective. He got himself into a fog recently over a forgery case, and that was what brought him here.\"\n",
        "\n",
        "\"And these other people?\"\n",
        "\n",
        "\"They are mostly sent on by private inquiry agencies. They are all people who are in trouble about something and want a little enlightening. I listen to their story, they listen to my comments, and then I pocket my fee.\"\n",
        "\n",
        "\"But do you mean to say,\" I said, \"that without leaving your room you can unravel some knot which other men can make nothing of, although they have seen every detail for themselves?\"\n",
        "\n",
        "\"Quite so. I have a kind of intuition that way. Now and again a case turns up which is a little more complex. Then I have to bustle about and see things with my own eyes. You see I have a lot of special knowledge which I apply to the problem, and which facilitates matters wonderfully. Those rules of deduction laid down in that article which aroused your scorn are invaluable to me in practical work. Observation with me is second nature. You appeared to be surprised when I told you, on our first meeting, that you had come from Afghanistan.\"\n",
        "\n",
        "\"You were told, no doubt.\"\n",
        "\n",
        "\"Nothing of the sort. I knew you came from Afghanistan. From long habit the train of thoughts ran so swiftly through my mind that I arrived at the conclusion without being conscious of intermediate steps. There were such steps, however. The train of reasoning ran, 'Here is a gentleman of a medical type, but with the air of a military man. Clearly an army doctor, then. He has just come from the tropics, for his face is dark, and that is not the natural tint of his skin, for his wrists are fair. He has undergone hardship and sickness, as his haggard face says clearly. His left arm has been injured. He holds it in a stiff and unnatural manner. Where in the tropics could an English army doctor have seen much hardship and got his arm wounded? Clearly in Afghanistan.' The whole train of thought did not occupy a second. I then remarked that you came from Afghanistan, and you were astonished.\"\n",
        "\n",
        "\"It is simple enough as you explain it,\" I said, smiling. \"You remind me of Edgar Allan Poe's Dupin. I had no idea that such individuals did exist outside of stories.\"\n",
        "\n",
        "Sherlock Holmes rose and lit his pipe. \"No doubt you think that you are complimenting me in comparing me to Dupin,\" he observed. \"Now, in my opinion, Dupin was a very inferior fellow. That trick of his of breaking in on his friends' thoughts with an apropos remark after a quarter of an hour's silence is really very showy and superficial. He had some analytical genius, no doubt; but he was by no means such a phenomenon as Poe appeared to imagine.\"\n",
        "\n",
        "\"Have you read Gaboriau's works?\" I asked. \"Does Lecoq come up to your idea of a detective?\"\n",
        "\n",
        "Sherlock Holmes sniffed sardonically. \"Lecoq was a miserable bungler,\" he said, in an angry voice; \"he had only one thing to recommend him, and that was his energy. That book made me positively ill. The question was how to identify an unknown prisoner. I could have done it in twenty-four hours. Lecoq took six months or so. It might be made a textbook for detectives to teach them what to avoid.\"\n",
        "\n",
        "I felt rather indignant at having two characters whom I had admired treated in this cavalier style. I walked over to the window and stood looking out into the busy street. \"This fellow may be very clever,\" I said to myself, \"but he is certainly very conceited.\"\n",
        "\n",
        "\"There are no crimes and no criminals in these days,\" he said, querulously. \"What is the use of having brains in our profession? I know well that I have\n",
        "\n",
        "it in me to make my name famous. No man lives or has ever lived who has brought the same amount of study and of natural talent to the detection of crime which I have done. And what is the result? There is no crime to detect, or, at most, some bungling villainy with a motive so transparent that even a Scotland Yard official can see through it.\"\n",
        "\n",
        "I was still annoyed at his bumptious style of conversation. I thought it best to change the topic.\n",
        "\n",
        "\"I wonder what that fellow is looking for?\" I asked, pointing to a stalwart, plainly dressed individual who was walking slowly down the other side of the street, looking anxiously at the numbers. He had a large blue envelope in his hand, and was evidently the bearer of a message.\n",
        "\n",
        "\"You mean the retired sergeant of Marines,\" said Sherlock Holmes.\n",
        "\n",
        "\"Brag and bounce!\" thought I to myself. \"He knows that I cannot verify his guess.\"\n",
        "\n",
        "The thought had hardly passed through my mind when the man whom we were watching caught sight of the number on our door, and ran rapidly across the roadway. We heard a loud knock, a deep voice below, and heavy steps ascending the stair.\n",
        "\n",
        "\"For Mr. Sherlock Holmes,\" he said, stepping into the room and handing my friend the letter.\n",
        "\n",
        "Here was an opportunity of taking the conceit out of him. He little thought of this when he made that random shot. \"May I ask, my lad,\" I said, in the blandest voice, \"what your trade may be?\"\n",
        "\n",
        "\"Commissionaire, sir,\" he said, gruffly. \"Uniform away for repairs.\"\n",
        "\n",
        "\"And you were?\" I asked, with a slightly malicious glance at my companion.\n",
        "\n",
        "\"A sergeant, sir, Royal Marine Light Infantry, sir. No answer? Right, sir.\"\n",
        "\n",
        "He clicked his heels together, raised his hand in salute, and was gone.\n",
        "\n",
        "I was considerably startled by this fresh proof of the practical nature of my companion's theories. My respect for his powers of analysis increased wondrously. There still remained some lurking suspicion in my mind, however, that the whole thing was a prearranged episode, intended to dazzle me, though what earthly object he could have in taking me in was past my comprehension. When I looked at him, he had finished reading the note, and his eyes had assumed the vacant, lack-lustre expression which showed mental abstraction.\n",
        "\n",
        "\"How in the world did you deduce that?\" I asked.\n",
        "\n",
        "\"Deduce what?\" said he, petulantly.\n",
        "\n",
        "\"Why, that he was a retired sergeant of Marines.\"\n",
        "\n",
        "\"I have no time for trifles,\" he answered, brusquely; then with a smile, \"Excuse my rudeness. You broke the thread of my thoughts; but perhaps it is as well. So you actually were not able to see that that man was a sergeant of Marines?\"\n",
        "\n",
        "\"No, indeed.\"\n",
        "\n",
        "\"It was easier to know it than to explain why I know it. If you were asked to prove that two and two made four, you might find some difficulty, and yet you are quite sure of the fact. Even across the street I could see a great blue anchor tattooed on the back of the fellow's hand. That smacked of the sea. He had a military carriage, however, and regulation side whiskers. There we have the marine. He was a man with some amount of self-importance and a certain air of command. You must have observed the way in which he held his head and swung his cane. A steady, respectable, middle-aged man, too, on the face of him--all facts which led me to believe that he had been a sergeant.\"\n",
        "\n",
        "\"Wonderful!\" I ejaculated.\n",
        "\n",
        "\"Commonplace,\" said Holmes, though I thought from his expression that he was pleased at my evident surprise and admiration. \"I said just now that there were no criminals. It appears that I am wrong--look at this!\" He threw me over the note which the commissionaire had brought.\n",
        "\n",
        "\"Why,\" I cried, as I cast my eye over it, \"this is terrible!\"\n",
        "\n",
        "\"It does seem to be a little out of the common,\" he remarked, calmly. \"Would you mind reading it to me aloud?\"\n",
        "\n",
        "This is the letter which I read to him,--\n",
        "\n",
        "\"MY DEAR MR. SHERLOCK HOLMES:\n",
        "\n",
        "\"There has been a bad business during the night at 3, Lauriston Gardens, off the Brixton Road. Our man on the beat saw a light there about two in the morning, and as the house was an empty one, suspected that something was amiss. He found the door open, and in the front room, which is bare of furniture, discovered the body of a gentleman, well dressed, and having cards in his pocket bearing the name of 'Enoch J. Drebber, Cleveland, Ohio, U. S. A.' There had been no robbery, nor is there any evidence as to how the man met his death. There are marks of blood in the room, but there is no wound upon his person. We are at a loss as to how he came into the empty house; indeed, the whole affair is a puzzler. If you can come round to the house any time before twelve, you will find me there. I have left everything in statu quo until I hear from you. If you are unable to come, I shall give you fuller details, and would esteem it a great kindness if you would favour me with your opinions.\n",
        "\n",
        "\"Yours faithfully,\n",
        "\n",
        "\"TOBIAS GREGSON.\"\n",
        "\n",
        "\"Gregson is the smartest of the Scotland Yarders,\" my friend remarked; \"he and Lestrade are the pick of a bad lot. They are both quick and energetic, but conventional--shockingly so. They have their knives into one another, too.\n",
        "\n",
        "They are as jealous as a pair of professional beauties. There will be some fun over this case if they are both put upon the scent.\"\n",
        "\n",
        "I was amazed at the calm way in which he rippled on. \"Surely there is not a moment to be lost,\" I cried; \"shall I go and order you a cab?\"\n",
        "\n",
        "\"I'm not sure about whether I shall go. I am the most incurably lazy devil that ever stood in shoe leather--that is, when the fit is on me, for I can be spry enough at times.\"\n",
        "\n",
        "\"Why, it is just such a chance as you have been longing for.\"\n",
        "\n",
        "\"My dear fellow, what does it matter to me? Supposing I unravel the whole matter, you may be sure that Gregson, Lestrade, and Co. will pocket all the credit. That comes of being an unofficial personage.\"\n",
        "\n",
        "\"But he begs you to help him.\"\n",
        "\n",
        "\"Yes. He knows that I am his superior, and acknowledges it to me; but he would cut his tongue out before he would own it to any third person. However, we may as well go and have a look. I shall work it out on my own hook. I may have a laugh at them, if I have nothing else. Come on!\"\n",
        "\n",
        "He hustled on his overcoat, and bustled about in a way that showed that an energetic fit had superseded the apathetic one.\n",
        "\n",
        "\"Get your hat,\" he said.\n",
        "\n",
        "\"You wish me to come?\"\n",
        "\n",
        "\"Yes, if you have nothing better to do.\" A minute later we were both in a hansom, driving furiously for the Brixton Road.\n",
        "\n",
        "It was a foggy, cloudy morning, and a dun-coloured veil hung over the housetops, looking like the reflection of the mud-coloured streets beneath. My companion was in the best of spirits, and prattled away about Cremona fiddles and the difference between a Stradivarius and an Amati. As for myself, I was silent, for the dull weather and the melancholy business upon which we were engaged depressed my spirits.\n",
        "\n",
        "\"You don't seem to give much thought to the matter in hand,\" I said at last, interrupting Holmes's musical disquisition.\n",
        "\n",
        "\"No data yet,\" he answered. \"It is a capital mistake to theorize before you have all the evidence. It biases the judgment.\"\n",
        "\n",
        "\"You will have your data soon,\" I remarked, pointing with my finger; \"this is the Brixton Road, and that is the house, if I am not very much mistaken.\"\n",
        "\n",
        "\"So it is. Stop, driver, stop!\" We were still a hundred yards or so from it, but he insisted upon our alighting, and we finished our journey upon foot.\n",
        "\n",
        "Number 3, Lauriston Gardens wore an ill-omened and minatory look. It was one of four which stood back some little way from the street, two being occupied and two empty. The latter looked out with three tiers of vacant melancholy windows, which were blank and dreary, save that here and there a \"To Let\" card had developed like a cataract upon the bleared panes. A small garden sprinkled over with a scattered eruption of sickly plants separated each of these houses from the street, and was traversed by a narrow pathway, yellowish in colour, and consisting apparently of a mixture of clay and of gravel. The whole place was very sloppy from the rain which had fallen through the night. The garden was bounded by a three-foot brick wall with a fringe of wood rails upon the top, and against this wall was leaning a stalwart police constable, surrounded by a small knot of loafers, who craned their necks and strained their eyes in the vain hope of catching some glimpse of the proceedings within.\n",
        "\n",
        "I had imagined that Sherlock Holmes would at once have hurried into the house and plunged into a study of the mystery. Nothing appeared to be further from his intention. With an air of nonchalance which, under the circumstances, seemed to me to border upon affectation, he lounged up and down the pavement, and gazed vacantly at the ground, the sky, the opposite houses and the line of railings. Having finished his scrutiny, he proceeded slowly down the path, or rather down the fringe of grass which flanked the path, keeping his eyes riveted upon the ground. Twice he stopped, and once I saw him smile, and heard him utter an exclamation of satisfaction. There were many marks of footsteps upon the wet clayey soil; but since the police had been coming and going over it, I was unable to see how my companion could hope to learn anything from it. Still I had had such extraordinary evidence of the quickness of his perceptive faculties, that I had no doubt that he could see a great deal which was hidden from me.\n",
        "\n",
        "At the door of the house we were met by a tall, white-faced, flaxen-haired man, with a notebook in his hand, who rushed forward and wrung my companion's hand with effusion. \"It is indeed kind of you to come,\" he said, \"I have had everything left untouched.\"\n",
        "\n",
        "\"Except that!\" my friend answered, pointing at the pathway. \"If a herd of buffaloes had passed along, there could not be a greater mess. No doubt, however, you had drawn your own conclusions, Gregson, before you permitted this.\"\n",
        "\n",
        "\"I have had so much to do inside the house,\" the detective said evasively. \"My colleague, Mr. Lestrade, is here. I had relied upon him to look after this.\"\n",
        "\n",
        "Holmes glanced at me and raised his eyebrows sardonically. \"With two such men as yourself and Lestrade upon the ground, there will not be much for a third party to find out,\" he said.\n",
        "\n",
        "Gregson rubbed his hands in a self-satisfied way. \"I think we have done all that can be done,\" he answered; \"it's a queer case, though, and I knew your taste for such things.\"\n",
        "\n",
        "\"You did not come here in a cab?\" asked Sherlock Holmes.\n",
        "\n",
        "\"No, sir.\"\n",
        "\n",
        "\"Nor Lestrade?\"\n",
        "\n",
        "\"No, sir.\"\n",
        "\n",
        "\"Then let us go and look at the room.\" With which inconsequent remark he strode on into the house followed by Gregson, whose features expressed his astonishment.\n",
        "\n",
        "A short passage, bare-planked and dusty, led to the kitchen and offices. Two doors opened out of it to the left and to the right. One of these had obviously been closed for many weeks. The other belonged to the dining-room, which was the apartment in which the mysterious affair had occurred. Holmes walked in, and I followed him with that subdued feeling at my heart which the presence of death inspires.\n",
        "\n",
        "It was a large square room, looking all the larger from the absence of all furniture. A vulgar flaring paper adorned the walls, but it was blotched in places with mildew, and here and there great strips had become detached and hung down, exposing the yellow plaster beneath. Opposite the door was a showy fireplace, surmounted by a mantelpiece of imitation white marble. On one corner of this was stuck the stump of a red wax candle. The solitary window was so dirty that the light was hazy and uncertain, giving a dull gray tinge to everything, which was intensified by the thick layer of dust which coated the whole apartment.\n",
        "\n",
        "All these details I observed afterwards. At present my attention was centred upon the single, grim, motionless figure which lay stretched upon the boards, with vacant, sightless eyes staring up at the discoloured ceiling. It was that of a man about forty-three or forty-four years of age, middle-sized, broad-shouldered, with crisp curling black hair, and a short, stubbly beard. He was dressed in a heavy broadcloth frock coat and waistcoat, with light-coloured trousers, and immaculate collar and cuffs. A top hat, well brushed and trim, was placed upon the floor beside him. His hands were clenched and his arms thrown abroad, while his lower limbs were interlocked, as though his death struggle had been a grievous one. On his rigid face there stood an expression of horror, and, as it seemed to me, of hatred, such as I have never seen upon human features. This malignant and terrible contortion, combined with the low forehead, blunt nose, and prognathous jaw, gave the dead man a singularly simious and ape-like appearance, which was increased by his writhing, unnatural posture. I have seen death in many forms, but never has it appeared to me in a more fearsome aspect than in that dark, grimy apartment, which looked out upon one of the main arteries of suburban London.\n",
        "\n",
        "Lestrade, lean and ferret-like as ever, was standing by the doorway, and greeted my companion and myself.\n",
        "\n",
        "\"This case will make a stir, sir,\" he remarked. \"It beats anything I have seen, and I am no chicken.\"\n",
        "\n",
        "\"There is no clue?\" said Gregson.\n",
        "\n",
        "\"None at all,\" chimed in Lestrade.\n",
        "\n",
        "Sherlock Holmes approached the body, and, kneeling down, examined it intently. \"You are sure that there is no wound?\" he asked, pointing to numerous gouts and splashes of blood which lay all round.\n",
        "\n",
        "\"Positive!\" cried both detectives.\n",
        "\n",
        "\"Then, of course, this blood belongs to a second individual--presumably\n",
        "\n",
        "the murderer, if murder has been committed. It reminds me of the circumstances attendant on the death of Van Jansen, in Utrecht, in the year '34. Do you remember the case, Gregson?\"\n",
        "\n",
        "\"No, sir.\"\n",
        "\n",
        "\"Read it up--you really should. There is nothing new under the sun. It has all been done before.\"\n",
        "\n",
        "As he spoke, his nimble fingers were flying here, there, and everywhere, feeling, pressing, unbuttoning, examining, while his eyes wore the same far-away expression which I have already remarked upon. So swiftly was the examination made, that one would hardly have guessed the minuteness with which it was conducted. Finally, he sniffed the dead man's lips, and then glanced at the soles of his patent leather boots.\n",
        "\n",
        "\"He has not been moved at all?\" he asked.\n",
        "\n",
        "\"No more than was necessary for the purpose of our examination.\"\n",
        "\n",
        "\"You can take him to the mortuary now,\" he said. \"There is nothing more to be learned.\"\n",
        "\n",
        "Gregson had a stretcher and four men at hand. At his call they entered the room, and the stranger was lifted and carried out. As they raised him, a ring tinkled down and rolled across the floor. Lestrade grabbed it up and stared at it with mystified eyes.\n",
        "\n",
        "\"There's been a woman here,\" he cried. \"It's a woman's wedding ring.\"\n",
        "\n",
        "He held it out, as he spoke, upon the palm of his hand. We all gathered round him and gazed at it. There could be no doubt that that circlet of plain gold had once adorned the finger of a bride.\n",
        "\n",
        "\"This complicates matters,\" said Gregson. \"Heaven knows, they were complicated enough before.\"\n",
        "\n",
        "\"You're sure it doesn't simplify them?\" observed Holmes. \"There's nothing to be learned by staring at it. What did you find in his pockets?\"\n",
        "\n",
        "\"We have it all here,\" said Gregson, pointing to a litter of objects upon one of the bottom steps of the stairs. \"A gold watch, No. 97163, by Barraud, of London. Gold Albert chain, very heavy and solid. Gold ring, with masonic device. Gold pin--bull-dog's head, with rubies as eyes. Russian leather cardcase, with cards of Enoch J. Drebber of Cleveland, corresponding with the E. J. D. upon the linen. No purse, but loose money to the extent of seven pounds thirteen. Pocket edition of Boccaccio's 'Decameron,' with name of Joseph Stangerson upon the flyleaf. Two letters--one addressed to E. J. Drebber and one to Joseph Stangerson.\"\n",
        "\n",
        "\"At what address?\"\n",
        "\n",
        "\"American Exchange, Strand--to be left till called for. They are both\n",
        "\n",
        "from the Guion Steamship Company, and refer to the sailing of their boats from Liverpool. It is clear that this unfortunate man was about to return to New York.\"\n",
        "\n",
        "\"Have you made any inquiries as to this man Stangerson?\"\n",
        "\n",
        "\"I did it at once, sir,\" said Gregson. \"I have had advertisements sent to all the newspapers, and one of my men has gone to the American Exchange, but he has not returned yet.\"\n",
        "\n",
        "\"Have you sent to Cleveland?\"\n",
        "\n",
        "\"We telegraphed this morning.\"\n",
        "\n",
        "\"How did you word your inquiries?\"\n",
        "\n",
        "\"We simply detailed the circumstances, and said that we should be glad of any information which could help us.\"\n",
        "\n",
        "\"You did not ask for particulars on any point which appeared to you to be crucial?\"\n",
        "\n",
        "\"I asked about Stangerson.\"\n",
        "\n",
        "\"Nothing else? Is there no circumstance on which this whole case appears to hinge? Will you not telegraph again?\"\n",
        "\n",
        "\"I have said all I have to say,\" said Gregson, in an offended voice.\n",
        "\n",
        "Sherlock Holmes chuckled to himself, and appeared to be about to make some remark, when Lestrade, who had been in the front room while we were holding this conversation in the hall, reappeared upon the scene, rubbing his hands in a pompous and self-satisfied manner.\n",
        "\n",
        "\"Mr. Gregson,\" he said, \"I have just made a discovery of the highest importance, and one which would have been overlooked had I not made a careful examination of the walls.\"\n",
        "\n",
        "The little man's eyes sparkled as he spoke, and he was evidently in a state of suppressed exultation at having scored a point against his colleague.\n",
        "\n",
        "\"Come here,\" he said, bustling back into the room, the atmosphere of which felt clearer since the removal of its ghastly inmate. \"Now, stand there!\"\n",
        "\n",
        "He struck a match on his boot and held it up against the wall.\n",
        "\n",
        "\"Look at that!\" he said, triumphantly.\n",
        "\n",
        "I have remarked that the paper had fallen away in parts. In this particular corner of the room a large piece had peeled off, leaving a yellow square of coarse plastering. Across this bare space there was scrawled in blood-red letters a single word--\n",
        "\n",
        "RACHE\n",
        "\n",
        "\"What do you think of that?\" cried the detective, with the air of a showman exhibiting his show. \"This was overlooked because it was in the darkest corner of the room, and no one thought of looking there. The murderer has written it with his or her own blood. See this smear where it has trickled down the wall! That disposes of the idea of suicide anyhow. Why was that corner chosen to write it on? I will tell you. See that candle on the mantelpiece. It was lit at the time, and if it was lit this corner would be the brightest instead of the darkest portion of the wall.\"\n",
        "\n",
        "\"And what does it mean now that you have found it?\" asked Gregson in a depreciatory voice.\n",
        "\n",
        "\"Mean? Why, it means that the writer was going to put the female name Rachel, but was disturbed before he or she had time to finish. You mark my words, when this case comes to be cleared up, you will find that a woman named Rachel has something to do with it. It's all very well for you to laugh, Mr. Sherlock Holmes. You may be very smart and clever, but the old hound is the best, when all is said and done.\"\n",
        "\n",
        "\"I really beg your pardon!\" said my companion, who had ruffled the little man's temper by bursting into an explosion of laughter. \"You certainly have the credit of being the first of us to find this out and, as you say, it bears every mark of having been written by the other participant in last night's mystery. I have not had time to examine this room yet, but with your permission I shall do so now.\"\n",
        "\n",
        "As he spoke, he whipped a tape measure and a large round magnifying glass from his pocket. With these two implements he trotted noiselessly about the room, sometimes stopping, occasionally kneeling, and once lying flat upon his face. So engrossed was he with his occupation that he appeared to have forgotten our presence, for he chattered away to himself under his breath the whole time, keeping up a running fire of exclamations, groans, whistles, and little cries suggestive of encouragement and of hope. As I watched him I was irresistibly reminded of a pure-blooded, well-trained foxhound, as it dashes backward and forward through the covert, whining in its eagerness, until it comes across the lost scent. For twenty minutes or more he continued his researches, measuring with the most exact care the distance between marks which were entirely invisible to me, and occasionally applying his tape to the walls in an equally incomprehensible manner. In one place he gathered up very carefully a little pile of gray dust from the floor, and packed it away in an envelope. Finally he examined with his glass the word upon the wall, going over every letter of it with the most minute exactness. This done, he appeared to be satisfied, for he replaced his tape and his glass in his pocket.\n",
        "\n",
        "\"They say that genius is an infinite capacity for taking pains,\" he remarked with a smile. \"It's a very bad definition, but it does apply to detective work.\"\n",
        "\n",
        "Gregson and Lestrade had watched the manoeuvres of their amateur companion with considerable curiosity and some contempt. They evidently failed to appreciate the fact, which I had begun to realize, that Sherlock Holmes's smallest actions were all directed towards some definite and practical end.\n",
        "\n",
        "\"What do you think of it, sir?\" they both asked.\n",
        "\n",
        "\"It would be robbing you of the credit of the case if I were to presume to help you,\" remarked my friend. \"You are doing so well now that it would be a pity for anyone to interfere.\" There was a world of sarcasm in his voice as he spoke. \"If you will let me know how your investigations go,\" he continued, \"I shall be happy to give you any help I can. In the meantime I should like to speak to the constable who found the body. Can you give me his name and address?\"\n",
        "\n",
        "Lestrade glanced at his notebook. \"John Rance,\" he said. \"He is off duty now. You will find him at 46, Audley Court, Kennington Park Gate.\"\n",
        "\n",
        "Holmes took a note of the address.\n",
        "\n",
        "\"Come along, Doctor,\" he said: \"we shall go and look him up. I'll tell you one thing which may help you in the case,\" he continued, turning to the two detectives. \"There has been murder done, and the murderer was a man. He was more than six feet high, was in the prime of life, had small feet for his height, wore coarse, square-toed boots and smoked a Trichinopoly cigar. He came here with his victim in a four-wheeled cab, which was drawn by a horse with three old shoes and one new one on his off fore-leg. In all probability the murderer had a florid face, and the finger-nails of his right hand were remarkably long. These are only a few indications, but they may assist you.\"\n",
        "\n",
        "Lestrade and Gregson glanced at each other with an incredulous smile.\n",
        "\n",
        "\"If this man was murdered, how was it done?\" asked the former.\n",
        "\n",
        "\"Poison,\" said Sherlock Holmes curtly, and strode off. \"One other thing, Lestrade,\" he added, turning round at the door: \"'Rache,' is the German for 'revenge'; so don't lose your time looking for Miss Rachel.\"\n",
        "\n",
        "With which Parthian shot he walked away, leaving the two rivals open mouthed behind him.\n",
        "\n",
        "when we left No. 3, Lauriston Gardens. Sherlock Holmes led me to the nearest telegraph office, whence he dispatched a long telegram.\n",
        "\n",
        "He then hailed a cab, and ordered the driver to take us to the address given us by Lestrad\n",
        "\n",
        "\"There is nothing like first-hand evidence,\" he remarked; \"as a matter of fact, my mind is entirely made up upon the case, but still we may as well learn all that is to be learned.\"\n",
        "\n",
        "\"You amaze me, Holmes,\" said I. \"Surely you are not as sure as you pretend to be of all those particulars which you gave.\"\n",
        "\n",
        "\"There's no room for a mistake,\" he answered. \"The very first thing which I observed on arriving there was that a cab had made two ruts with its wheels close to the curb. Now, up to last night, we have had no rain for a week, so that those wheels which left such a deep impression must have been there during the night. There were the marks of the horse's hoofs, too, the outline of one of which was far more clearly cut than that of the other three, showing that that was a new shoe. Since the cab was there after the rain began, and was not there at any time during the morning--I have Gregson's word for that--it follows that it must have been there during the night, and therefore, that it brought those two individuals to the house.\"\n",
        "\n",
        "\"That seems simple enough,\" said I; \"but how about the other man's height?\"\n",
        "\n",
        "\"Why, the height of a man, in nine cases out of ten, can be told from the length of his stride. It is a simple calculation enough, though there is no use my boring you with figures. I had this fellow's stride both on the clay outside and on the dust within. Then I had a way of checking my calculation. When a man writes on a wall, his instinct leads him to write above the level of his own eyes. Now that writing was just over six feet from the ground. It was child's play.\"\n",
        "\n",
        "\"And his age?\" I asked.\n",
        "\n",
        "\"Well, if a man can stride four and a half feet without the smallest effort, he can't be quite in the sere and yellow. That was the breadth of a puddle on the garden walk which he had evidently walked across. Patent-leather boots had gone round, and Square-toes had hopped over. There is no mystery about it at all. I am simply applying to ordinary life a few of those precepts of observation and deduction which I advocated in that article. Is there anything else that puzzles you?\"\n",
        "\n",
        "\"The finger-nails and the Trichinopoly,\" I suggested.\n",
        "\n",
        "\"The writing on the wall was done with a man's forefinger dipped in blood. My glass allowed me to observe that the plaster was slightly scratched in doing it, which would not have been the case if the man's nail had been trimmed. I gathered up some scattered ash from the floor. It was dark in colour and flaky --such an ash is only made by a Trichinopoly. I have made a special study of cigar ashes--in fact, I have written a monograph upon the subject. I flatter myself that I can distinguish at a glance the ash of any known brand either of cigar or of tobacco. It is just in such details that the skilled detective differs from the Gregson and Lestrade type.\"\n",
        "\n",
        "\"And the florid face?\" I asked.\n",
        "\n",
        "\"Ah, that was a more daring shot, though I have no doubt that I was right. You must not ask me that at the present state of the affair.\"\n",
        "\n",
        "I passed my hand over my brow. \"My head is in a whirl,\" I remarked; \"the more one thinks of it the more mysterious it grows. How came these two men--if there were two men--into an empty house? What has become of the cabman who drove them? How could one man compel another to take poison? Where did the blood come from? What was the object of the murderer, since robbery had no part in it? How came the woman's ring there? Above all, why should the second man write up the German word RACHE before decamping? I confess that I cannot see any possible way of reconciling all these facts.\"\n",
        "\n",
        "My companion smiled approvingly.\n",
        "\n",
        "\"You sum up the difficulties of the situation succinctly and well,\" he said. \"There is much that is still obscure, though I have quite made up my mind on the main facts. As to poor Lestrade's discovery, it was simply a blind intended to put the police upon a wrong track, by suggesting Socialism and secret societies. It was not done by a German. The A, if you noticed, was printed somewhat after the German fashion. Now, a real German invariably prints in the Latin character, so that we may safely say that this was not written by one, but by a clumsy imitator who overdid his part. It was simply a ruse to divert inquiry into a wrong channel. I'm not going to tell you much more of the case, Doctor. You know a conjurer gets no credit when once he has explained his trick; and if I show you too much of my method of working, you will come to the conclusion that I am a very ordinary individual after all.\"\n",
        "\n",
        "\"I shall never do that,\" I answered; \"you have brought detection as near an exact science as it ever will be brought in this world.\"\n",
        "\n",
        "My companion flushed up with pleasure at my words, and the earnest way in which I uttered them. I had already observed that he was as sensitive to flattery on the score of his art as any girl could be of her beauty.\n",
        "\n",
        "\"I'll tell you one other thing,\" he said. \"Patent-leathers and Square-toes came in the same cab, and they walked down the pathway together as friendly as possible--arm-in-arm, in all probability. When they got inside, they walked\n",
        "\n",
        "up and down the room--or rather, Patent-leathers stood still while Square-toes walked up and down. I could read all that in the dust; and I could read that as he walked he grew more and more excited. That is shown by the increased length of his strides. He was talking all the while, and working himself up, no doubt, into a fury. Then the tragedy occurred. I've told you all I know myself now, for the rest is mere surmise and conjecture. We have a good working basis, however, on which to start. We must hurry up, for I want to go to Halle's concert to hear Norman Neruda this afternoon.\"\n",
        "\n",
        "This conversation had occurred while our cab had been threading its way through a long succession of dingy streets and dreary byways. In the dingiest and dreariest of them our driver suddenly came to a stand. \"That's Audley Court in there,\" he said, pointing to a narrow slit in the line of dead-coloured brick. \"You'll find me here when you come back.\"\n",
        "\n",
        "Audley Court was not an attractive locality. The narrow passage led us into a quadrangle paved with flags and lined by sordid dwellings. We picked our way among groups of dirty children, and through lines of discoloured linen, until we came to Number 46, the door of which was decorated with a small slip of brass on which the name Rance was engraved. On inquiry we found that the constable was in bed, and we were shown into a little front parlour to await his coming.\n",
        "\n",
        "He appeared presently, looking a little irritable at being disturbed in his slumbers. \"I made my report at the office,\" he said.\n",
        "\n",
        "Holmes took a half-sovereign from his pocket and played with it pensively. \"We thought that we should like to hear it all from your own lips,\" he said.\n",
        "\n",
        "\"I shall be most happy to tell you anything I can,\" the constable answered, with his eyes upon the little golden disc.\n",
        "\n",
        "\"Just let us hear it all in your own way as it occurred.\"\n",
        "\n",
        "Rance sat down on the horsehair sofa, and knitted his brows, as though determined not to omit anything in his narrative.\n",
        "\n",
        "\"I'll tell it ye from the beginning,\" he said. \"My time is from ten at night to six in the morning. At eleven there was a fight at the White Hart; but bar that all was quiet enough on the beat. At one o'clock it began to rain, and I met Harry Murcher--him who has the Holland Grove beat--and we stood\n",
        "\n",
        "together at the corner of Henrietta Street a-talkin'. Presently--maybe about two or a little after--I thought I would take a look round and see that all\n",
        "\n",
        "was right down the Brixton Road. It was precious dirty and lonely. Not a soul did I meet all the way down, though a cab or two went past me. I was a-strollin' down, thinkin' between ourselves how uncommon handy a four of gin hot would be, when suddenly the glint of a light caught my eye in the window of that same house. Now, I knew that them two houses in Lauriston Gardens was empty on account of him that owns them who won't have the drains seed to, though the very last tenant what lived in one of them died o' typhoid fever. I was knocked all in a heap, therefore, at seeing a light in the window, and I suspected as something was wrong. When I got to the door-- --\"\n",
        "\n",
        "\"You stopped, and then walked back to the garden gate,\" my companion interrupted. \"What did you do that for?\"\n",
        "\n",
        "Rance gave a violent jump, and stared at Sherlock Holmes with the utmost amazement upon his features.\n",
        "\n",
        "\"Why, that's true, sir,\" he said; \"though how you come to know it, Heaven only knows. Ye see when I got up to the door, it was so still and so lonesome, that I thought I'd be none the worse for someone with me. I ain't afeared of anything on this side o' the grave; but I thought that maybe it was him that died o' the typhoid inspecting the drains what killed him. The thought gave me a kind o' turn, and I walked back to the gate to see if I could see Murcher's lantern, but there wasn't no sign of him nor of anyone else.\"\n",
        "\n",
        "\"There was no one in the street?\"\n",
        "\n",
        "\"Not a livin' soul, sir, nor as much as a dog. Then I pulled myself together and went back and pushed the door open. All was quiet inside, so I went into the room where the light was a-burnin'. There was a candle flickerin' on the mantelpiece--a red wax one--and by its light I saw-- --\"\n",
        "\n",
        "\"Yes, I know all that you saw. You walked round the room several times, and you knelt down by the body, and then you walked through and tried the kitchen door, and then-- --\"\n",
        "\n",
        "John Rance sprang to his feet with a frightened face and suspicion in his eyes. \"Where was you hid to see all that?\" he cried. \"It seems to me that you knows a deal more than you should.\"\n",
        "\n",
        "Holmes laughed and threw his card across the table to the constable.\n",
        "\n",
        "\"Don't go arresting me for the murder,\" he said. \"I am one of the hounds and not the wolf; Mr. Gregson or Mr. Lestrade will answer for that. Go on, though. What did you do next?\"\n",
        "\n",
        "Rance resumed his seat, without, however, losing his mystified expression. \"I went back to the gate and sounded my whistle. That brought Murcher and two more to the spot.\"\n",
        "\n",
        "\"Was the street empty then?\"\n",
        "\n",
        "\"Well, it was, as far as anybody that could be of any good goes.\"\n",
        "\n",
        "\"What do you mean?\"\n",
        "\n",
        "The constable's features broadened into a grin. \"I've seen many a drunk chap in my time,\" he said, \"but never anyone so cryin' drunk as that cove. He was at the gate when I came out, a-leanin' up ag'in the railings, and a-singin' at the pitch o' his lungs about Columbine's New-fangled Banner, or some such stuff. He couldn't stand, far less help.\"\n",
        "\n",
        "\"What sort of a man was he?\" asked Sherlock Holmes.\n",
        "\n",
        "John Rance appeared to be somewhat irritated at this digression. \"He was an uncommon drunk sort o' man,\" he said. \"He'd ha' found hisself in the station if we hadn't been so took up.\"\n",
        "\n",
        "\"His face--his dress--didn't you notice them?\" Holmes broke in impatiently.\n",
        "\n",
        "\"I should think I did notice them, seeing that I had to prop him up--me and Murcher between us. He was a long chap, with a red face, the lower part muffled round-- --\"\n",
        "\n",
        "\"That will do,\" cried Holmes. \"What became of him?\"\n",
        "\n",
        "\"We'd enough to do without lookin' after him,\" the policeman said, in an aggrieved voice. \"I'll wager he found his way home all right.\"\n",
        "\n",
        "\"How was he dressed?\"\n",
        "\n",
        "\"A brown overcoat.\"\n",
        "\n",
        "\"Had he a whip in his hand?\"\n",
        "\n",
        "\"A whip--no.\"\n",
        "\n",
        "\"He must have left it behind,\" muttered my companion. \"You didn't happen to see or hear a cab after that?\"\n",
        "\n",
        "\"No.\"\n",
        "\n",
        "\"There's a half-sovereign for you,\" my companion said, standing up and taking his hat. \"I am afraid, Rance, that you will never rise in the force. That head of yours should be for use as well as ornament. You might have gained your sergeant's stripes last night. The man whom you held in your hands is the man who holds the clue of this mystery, and whom we are seeking. There is no use of arguing about it now; I tell you that it is so. Come along, Doctor.\"\n",
        "\n",
        "We started off for the cab together, leaving our informant incredulous, but obviously uncomfortable.\n",
        "\n",
        "\"The blundering fool!\" Holmes said, bitterly, as we drove back to our lodgings. \"Just to think of his having such an incomparable bit of good luck, and not taking advantage of it.\"\n",
        "\n",
        "\"I am rather in the dark still. It is true that the description of this man tallies with your idea of the second party in this mystery. But why should he come back to the house after leaving it? That is not the way of criminals.\"\n",
        "\n",
        "\"The ring, man, the ring: that was what he came back for. If we have no other way of catching him, we can always bait our line with the ring. I shall have him, Doctor--I'll lay you two to one that I have him. I must thank you for it all. I might not have gone but for you, and so have missed the finest study I ever came across: a study in scarlet, eh? Why shouldn't we use a little art jargon. There's the scarlet thread of murder running through the colourless skein of life, and our duty is to unravel it, and isolate it, and expose every inch of it. And now for lunch, and then for Norman Neruda. Her attack and her bowing are splendid. What's that little thing of Chopin's she plays so magnificently: Tra-la-la-lira-lira-lay.\"\n",
        "\n",
        "Leaning back in the cab, this amateur bloodhound carolled away like a lark while I meditated upon the many-sidedness of the human mind.\n",
        "\n",
        "More than once they lost their way, but Hope's intimate knowledge of the mountains enabled them to regain the track once more. When morning broke, a scene of marvellous though savage beauty lay before them. In every direction the great snow-capped peaks hemmed them in, peeping over each other's shoulders to the far horizon. So steep were the rocky banks on either side of them that the larch and the pine seemed to be suspended over their heads, and to need only a gust of wind to come hurtling down upon them. Nor was the fear entirely an illusion, for the barren valley was thickly strewn with trees and boulders which had fallen in a similar manner. Even as they passed, a great rock came thundering down with a hoarse rattle which woke the echoes in the silent gorges, and startled the weary horses into a gallop.\n",
        "\n",
        "As the sun rose slowly above the eastern horizon, the caps of the great mountains lit up one after the other, like lamps at a festival, until they were all ruddy and glowing. The magnificent spectacle cheered the hearts of the three fugitives and gave them fresh energy. At a wild torrent which swept out of a ravine they called a halt and watered their horses, while they partook of a hasty breakfast. Lucy and her father would fain have rested longer, but Jefferson Hope was inexorable. \"They will be upon our track by this time,\" he said. \"Everything depends upon our speed. Once safe in Carson, we may rest for the remainder of our lives.\"\n",
        "\n",
        "During the whole of that day they struggled on through the defiles, and by evening they calculated that they were more than thirty miles from their enemies. At night-time they chose the base of a beetling crag, where the rocks offered some protection from the chill wind, and there, huddled together for warmth, they enjoyed a few hours' sleep. Before daybreak, however, they were up and on their way once more. They had seen no signs of any pursuers, and Jefferson Hope began to think that they were fairly out of the reach of the terrible organization whose enmity they had incurred. He little knew how far that iron grasp could reach, or how soon it was to close upon them and crush them.\n",
        "\n",
        "About the middle of the second day of their flight their scanty store of provisions began to run out. This gave the hunter little uneasiness, however, for there was game to be had among the mountains, and he had frequently before had to depend upon his rifle for the needs of life. Choosing a sheltered nook, he piled together a few dried branches and made a blazing fire, at which his companions might warm themselves, for they were now nearly five thousand feet above the sea level, and the air was bitter and keen. Having tethered the horses, and bid Lucy adieu, he threw his gun over his shoulder, and set out in search of whatever chance might throw in his way. Looking back, he saw the old man and the young girl crouching over the blazing fire, while the three animals stood motionless in the background. Then the intervening rocks hid them from his view.\n",
        "\n",
        "He walked for a couple of miles through one ravine after another without success, though, from the marks upon the bark of the trees, and other indications, he judged that there were numerous bears in the vicinity. At last, after two or three hours' fruitless search, he was thinking of turning back in despair, when casting his eyes upwards he saw a sight which sent a thrill of pleasure through his heart. On the edge of a jutting pinnacle, three or four hundred feet above him, there stood a creature somewhat resembling a sheep in appearance, but armed with a pair of gigantic horns. The big-horn--for so it is called--was acting, probably, as a guardian over a flock which were invisible to the hunter; but fortunately it was heading in the opposite direction, and had not perceived him. Lying on his face, he rested his rifle upon a rock, and took a long and steady aim before drawing the trigger. The animal sprang into the air, tottered for a moment upon the edge of the precipice, and then came crashing down into the valley beneath.\n",
        "\n",
        "The creature was too unwieldy to lift, so the hunter contented himself with cutting away one haunch and part of the flank. With this trophy over his shoulder, he hastened to retrace his steps, for the evening was already drawing in. He had hardly started, however, before he realized the difficulty which faced him. In his eagerness he had wandered far past the ravines which were known to him, and it was no easy matter to pick out the path which he had taken. The valley in which he found himself divided and sub-divided into many gorges, which were so like each other that it was impossible to distinguish one from the other. He followed one for a mile or more until he came to a mountain torrent which he was sure that he had never seen before. Convinced that he had taken the wrong turn, he tried another, but with the same result. Night was coming on rapidly, and it was almost dark before he at last found himself in a defile which was familiar to him. Even then it was no easy matter to keep to the right track, for the moon had not yet risen, and the high cliffs on either side made the obscurity more profound. Weighed down with his burden, and weary from his exertions, he stumbled along, keeping up his heart by the reflection that every step brought him nearer to Lucy, and that he carried with him enough to ensure them food for the remainder of their journey.\n",
        "\n",
        "He had now come to the mouth of the very defile in which he had left them. Even in the darkness he could recognize the outline of the cliffs which bounded it. They must, he reflected, be awaiting him anxiously, for he had been absent nearly five hours. In the gladness of his heart he put his hands to his mouth and made the glen reecho to a loud halloo as a signal that he was coming. He paused and listened for an answer. None came save his own cry, which clattered up the dreary, silent ravines, and was borne back to his ears in countless repetitions. Again he shouted, even louder than before, and again no whisper came back from the friends whom he had left such a short time ago. A vague, nameless dread came over him, and he hurried onward frantically, dropping the precious food in his agitation.\n",
        "\n",
        "When he turned the corner, he came full in sight of the spot where the fire had been lit. There was still a glowing pile of wood ashes there, but it had evidently not been tended since his departure. The same dead silence still reigned all round. With his fears all changed to convictions, he hurried on. There was no living creature near the remains of the fire: animals, man, maiden, all were gone. It was only too clear that some sudden and terrible disaster had occurred during his absence--a disaster which had embraced them all, and yet had left no traces behind it.\n",
        "\n",
        "Bewildered and stunned by this blow, Jefferson Hope felt his head spin round, and had to lean upon his rifle to save himself from falling. He was essentially a man of action, however, and speedily recovered from his temporary impotence. Seizing a half-consumed piece of wood from the smouldering fire, he blew it into a flame, and proceeded with its help to examine the little camp. The ground was all stamped down by the feet of horses, showing that a large party of mounted men had overtaken the fugitives, and the direction of their tracks proved that they had afterwards turned back to Salt Lake City. Had they carried back both of his companions with them? Jefferson Hope had almost persuaded himself that they must have done so, when his eye fell upon an object which made every nerve of his body tingle within him. A little way on one side of the camp was a low-lying heap of reddish soil, which had assuredly not been there before. There was no mistaking it for anything but a newly dug grave. As the young hunter approached it, he perceived that a stick had been planted on it, with a sheet of paper stuck in the cleft fork of it. The inscription upon the paper was brief, but to the point:\n",
        "\n",
        "JOHN FERRIER,\n",
        "\n",
        "FORMERLY OF SALT LAKE CITY.\n",
        "\n",
        "Died August 4th, 1860.\n",
        "\n",
        "The sturdy old man, whom he had left so short a time before, was gone, then, and this was all his epitaph. Jefferson Hope looked wildly round to see if there was a second grave, but there was no sign of one. Lucy had been carried back by their terrible pursuers to fulfil her original destiny, by becoming one of the harem of an Elder's son. As the young fellow realized the certainty of her fate, and his own powerlessness to prevent it, he wished that he, too, was lying with the old farmer in his last silent resting-place.\n",
        "\n",
        "Again, however, his active spirit shook off the lethargy which springs from despair. If there was nothing else left to him, he could at least devote his life to revenge. With indomitable patience and perseverance, Jefferson Hope possessed also a power of sustained vindictiveness, which he may have learned from the Indians amongst whom he had lived. As he stood by the desolate fire, he felt that the only one thing which could assuage his grief would be thorough and complete retribution, brought by his own hand upon his enemies. His strong will and untiring energy should, he determined, be devoted to that one end.\n",
        "\n",
        "With a grim, white face, he retraced his steps to where he had dropped the food, and having stirred up the smouldering fire, he cooked enough to last him for a few days. This he made up into a bundle, and, tired as he was, he set himself to walk back through the mountains upon the track of the Avenging Angels.\n",
        "\n",
        "For five days he toiled footsore and weary through the defiles which he had already traversed on horseback. At night he flung himself down among the rocks, and snatched a few hours of sleep; but before daybreak he was always well on his way. On the sixth day, he reached the Eagle Canon, from which they had commenced their ill-fated flight. Thence he could look down upon the home of the Saints. Worn and exhausted, he leaned upon his rifle and shook his gaunt hand fiercely at the silent widespread city beneath him. As he looked at it, he observed that there were flags in some of the principal streets, and other signs of festivity. He was still speculating as to what this might mean when he heard the clatter of horse's hoofs, and saw a mounted man riding towards him. As he approached, he recognized him as a Mormon named Cowper, to whom he had rendered services at different times. He therefore accosted him when he got up to him, with the object of finding out what Lucy Ferrier's fate had been.\n",
        "\n",
        "\"I am Jefferson Hope,\" he said. \"You remember me.\"\n",
        "\n",
        "The Mormon looked at him with undisguised astonishment--indeed, it was difficult to recognize in this tattered, unkempt wanderer, with ghastly white face and fierce, wild eyes, the spruce young hunter of former days. Having, however, at last satisfied himself as to his identity, the man's surprise changed to consternation.\n",
        "\n",
        "\"You are mad to come here,\" he cried. \"It is as much as my own life is worth to be seen talking with you. There is a warrant against you from the Holy Four for assisting the Ferriers away.\"\n",
        "\n",
        "\"I don't fear them, or their warrant,\" Hope said, earnestly. \"You must know something of this matter, Cowper. I conjure you by everything you hold dear to answer a few questions. We have always been friends. For God's sake, don't refuse to answer me.\"\n",
        "\n",
        "\"What is it?\" the Mormon asked, uneasily. \"Be quick. The very rocks have ears and the trees eyes.\"\n",
        "\n",
        "\"What has become of Lucy Ferrier?\"\n",
        "\n",
        "\"She was married yesterday to young Drebber. Hold up, man, hold up; you have no life left in you.\"\n",
        "\n",
        "\"Don't mind me,\" said Hope faintly. He was white to the very lips, and had sunk down on the stone against which he had been leaning. \"Married, you say?\"\n",
        "\n",
        "\"Married yesterday--that's what those flags are for on the Endowment House. There was some words between young Drebber and young Stangerson as to which was to have her. They'd both been in the party that followed them, and Stangerson had shot her father, which seemed to give him the best claim; but when they argued it out in council, Drebber's party was the stronger, so the Prophet gave her over to him. No one won't have her very long though, for I saw death in her face yesterday. She is more like a ghost than a woman. Are you off, then?\"\n",
        "\n",
        "\"Yes, I am off,\" said Jefferson Hope, who had risen from his seat. His face might have been chiselled out of marble, so hard and set was its expression, while its eyes glowed with a baleful light.\n",
        "\n",
        "\"Where are you going?\"\n",
        "\n",
        "\"Never mind,\" he answered; and, slinging his weapon over his shoulder, strode off down the gorge and so away into the heart of the mountains to the haunts of the wild beasts. Amongst them all there was none so fierce and so dangerous as himself.\n",
        "\n",
        "The prediction of the Mormon was only too well fulfilled. Whether it was the terrible death of her father or the effects of the hateful marriage into which she had been forced, poor Lucy never held up her head again, but pined away and died within a month. Her sottish husband, who had married her principally for the sake of John Ferrier's property, did not affect any great grief at his bereavement; but his other wives mourned over her, and sat up with her the night before the burial, as is the Mormon custom. They were grouped round the bier in the early hours of the morning, when, to their inexpressible fear and astonishment, the door was flung open, and a savage-looking, weather-beaten man in tattered garments strode into the room. Without a glance or a word to the cowering women, he walked up to the white silent figure which had once contained the pure soul of Lucy Ferrier. Stooping over her, he pressed his lips reverently to her cold forehead, and then, snatching up her hand, he took the wedding ring from her finger. \"She shall not be buried in that,\" he cried with a fierce snarl, and before an alarm could be raised sprang down the stairs and was gone. So strange and so brief was the episode that the watchers might have found it hard to believe it themselves or persuade other people of it, had it not been for the undeniable fact that the circlet of gold which marked her as having been a bride had disappeared.\n",
        "\n",
        "For some months Jefferson Hope lingered among the mountains, leading a strange, wild life, and nursing in his heart the fierce desire for vengeance which possessed him. Tales were told in the city of the weird figure which was seen prowling about the suburbs, and which haunted the lonely mountain gorges. Once a bullet whistled through Stangerson's window and flattened itself upon the wall within a foot of him. On another occasion, as Drebber passed under a cliff a great boulder crashed down on him, and he only escaped a terrible death by throwing himself upon his face. The two young Mormons were not long in discovering the reason of these attempts upon their lives, and led repeated expeditions into the mountains in the hope of capturing or killing their enemy, but always without success. Then they adopted the precaution of never going out alone or after nightfall, and of having their houses guarded. After a time they were able to relax these measures, for nothing was either heard or seen of their opponent, and they hoped that time had cooled his vindictiveness.\n",
        "\n",
        "Far from doing so, it had, if anything, augmented it. The hunter's mind was of a hard, unyielding nature, and the predominant idea of revenge had taken such complete possession of it that there was no room for any other emotion. He was, however, above all things, practical. He soon realized that even his iron constitution could not stand the incessant strain which he was putting upon it. Exposure and want of wholesome food were wearing him out. If he died like a dog among the mountains, what was to become of his revenge then? And yet such a death was sure to overtake him if he persisted. He felt that that was to play his enemy's game, so he reluctantly returned to the old Nevada mines, there to recruit his health and to amass money enough to allow him to pursue his object without privation.\n",
        "\n",
        "His intention had been to be absent a year at the most, but a combination of unforeseen circumstances prevented his leaving the mines for nearly five. At the end of that time, however, his memory of his wrongs and his craving for revenge were quite as keen as on that memorable night when he had stood by John Ferrier's grave. Disguised, and under an assumed name, he returned to Salt Lake City, careless what became of his own life, as long as he obtained what he knew to be justice. There he found evil tidings awaiting him. There had been a schism among the Chosen People a few months before, some of the younger members of the Church having rebelled against the authority of the Elders, and the result had been the secession of a certain number of the malcontents, who had left Utah and become Gentiles. Among these had been Drebber and Stangerson; and no one knew whither they had gone. Rumour reported that Drebber had managed to convert a large part of his property into money, and that he had departed a wealthy man, while his companion, Stangerson, was comparatively poor. There was no clue at all, however, as to their whereabouts.\n",
        "\n",
        "Many a man, however vindictive, would have abandoned all thought of revenge in the face of such a difficulty, but Jefferson Hope never faltered for a moment. With the small competence he possessed, eked out by such employment as he could pick up, he travelled from town to town through the United States in quest of his enemies. Year passed into year, his black hair turned grizzled, but still he wandered on, a human bloodhound, with his mind wholly set upon the one object to which he had devoted his life. At last his perseverance was rewarded. It was but a glance of a face in a window, but that one glance told him that Cleveland in Ohio possessed the men whom he was in pursuit of. He returned to his miserable lodgings with his plan of vengeance all arranged. It chanced, however, that Drebber, looking from his window, had recognized the vagrant in the street, and had read murder in his eyes. He hurried before a justice of the peace accompanied by Stangerson, who had become his private secretary, and represented to him that they were in danger of their lives from the jealousy and hatred of an old rival. That evening Jefferson Hope was taken into custody, and not being able to find sureties, was detained for some weeks. When at last he was liberated it was only to find that Drebber's house was deserted, and that he and his secretary had departed for Europe.\n",
        "\n",
        "Again the avenger had been foiled, and again his concentrated hatred urged him to continue the pursuit. Funds were wanting, however, and for some time he had to return to work, saving every dollar for his approaching journey. At last, having collected enough to keep life in him, he departed for Europe, and tracked his enemies from city to city, working his way in any menial capacity, but never overtaking the fugitives. When he reached St. Petersburg, they had departed for Paris; and when he followed them there, he learned that they had just set off for Copenhagen. At the Danish capital he was again a few days late, for they had journeyed on to London, where he at last succeeded in running them to earth. As to what occurred there, we cannot do better than quote the old hunter's own account, as duly recorded in Dr. Watson's Journal, to which we are already under such obligations.\n",
        "\n",
        " Gregson sprang out of his chair and upset the remainder of his whisky and water. I stared in silence at Sherlock Holmes, whose lips were compressed and his brows drawn down over his eyes.\n",
        "\n",
        "\"Stangerson too!\" he muttered. \"The plot thickens.\"\n",
        "\n",
        "\"It was quite thick enough before,\" grumbled Lestrade, taking a chair. \"I seem to have dropped into a sort of council of war.\"\n",
        "\n",
        "\"Are you--are you sure of this piece of intelligence?\" stammered Gregson.\n",
        "\n",
        "\"I have just come from his room,\" said Lestrade. \"I was the first to discover what had occurred.\"\n",
        "\n",
        "\"We have been hearing Gregson's view of the matter,\" Holmes observed. \"Would you mind letting us know what you have seen and done?\"\n",
        "\n",
        "\"I have no objection,\" Lestrade answered, seating himself. \"I freely confess that I was of the opinion that Stangerson was concerned in the death of Drebber. This fresh development has shown me that I was completely mistaken. Full of the one idea, I set myself to find out what had become of the secretary. They had been seen together at Euston Station about half-past eight on the evening of the 3rd. At two in the morning Drebber had been found in the Brixton Road. The question which confronted me was to find out how Stangerson had been employed between 8:30 and the time of the crime, and what had become of him afterwards. I telegraphed to Liverpool, giving a description of the man, and warning them to keep a watch upon the American boats. I then set to work calling upon all the hotels and lodging-houses in the vicinity of Euston. You see, I argued that if Drebber and his companion had become separated, the natural course for the latter would be to put up somewhere in the vicinity for the night, and then to hang about the station again next morning.\"\n",
        "\n",
        "\"They would be likely to agree on some meeting-place beforehand,\" remarked Holmes.\n",
        "\n",
        "\"So it proved. I spent the whole of yesterday evening in making inquiries entirely without avail. This morning I began very early, and at eight o'clock I reached Halliday's Private Hotel, in Little George Street. On my inquiry as to whether a Mr. Stangerson was living there, they at once answered me in the affirmative.\n",
        "\n",
        "\"'No doubt you are the gentleman whom he was expecting,' they said. 'He has been waiting for a gentleman for two days.'\n",
        "\n",
        "\"'Where is he now?' I asked.\n",
        "\n",
        "\"'He is upstairs in bed. He wished to be called at nine.'\n",
        "\n",
        "\"'I will go up and see him at once,' I said.\n",
        "\n",
        "\"It seemed to me that my sudden appearance might shake his nerves and lead him to say something unguarded. The boots volunteered to show me the room: it was on the second floor, and there was a small corridor leading up to it. The boots pointed out the door to me, and was about to go downstairs again when I saw something that made me feel sickish, in spite of my twenty years' experience. From under the door there curled a little red ribbon of blood, which had meandered across the passage and formed a little pool along the skirting at the other side. I gave a cry, which brought the boots back. He nearly fainted when he saw it. The door was locked on the inside, but we put our shoulders to it, and knocked it in. The window of the room was open, and beside the window, all huddled up, lay the body of a man in his nightdress. He was quite dead, and had been for some time, for his limbs were rigid and cold. When we turned him over, the boots recognized him at once as being the same gentleman who had engaged the room under the name of Joseph Stangerson. The cause of death was a deep stab in the left side, which must have penetrated the heart. And now comes the strangest part of the affair. What do you suppose was above the murdered man?\"\n",
        "\n",
        "I felt a creeping of the flesh, and a presentiment of coming horror, even before Sherlock Holmes answered.\n",
        "\n",
        "\"The word RACHE, written in letters of blood,\" he said.\n",
        "\n",
        "\"That was it,\" said Lestrade, in an awestruck voice; and we were all silent for a while.\n",
        "\n",
        "There was something so methodical and so incomprehensible about the deeds of this unknown assassin, that it imparted a fresh ghastliness to his crimes. My nerves, which were steady enough on the field of battle, tingled as I thought of it.\n",
        "\n",
        "\"The man was seen,\" continued Lestrade. \"A milk boy, passing on his way to the dairy, happened to walk down the lane which leads from the mews at the back of the hotel. He noticed that a ladder, which usually lay there, was raised against one of the windows of the second floor, which was wide open. After passing, he looked back and saw a man descend the ladder. He came down so quietly and openly that the boy imagined him to be some carpenter or joiner at work in the hotel. He took no particular notice of him, beyond thinking in his own mind that it was early for him to be at work. He has an impression that the man was tall, had a reddish face, and was dressed in a long, brownish coat. He must have stayed in the room some little time after the murder, for we found blood-stained water in the basin, where he had washed his hands, and marks on the sheets where he had deliberately wiped his knife.\"\n",
        "\n",
        "I glanced at Holmes on hearing the description of the murderer which tallied so exactly with his own. There was, however, no trace of exultation or satisfaction upon his face.\n",
        "\n",
        "\"Did you find nothing in the room which could furnish a clue to the murderer?\" he asked.\n",
        "\n",
        "\"Nothing. Stangerson had Drebber's purse in his pocket, but it seems that this was usual, as he did all the paying. There was eighty-odd pounds in it, but nothing had been taken. Whatever the motives of these extraordinary crimes, robbery is certainly not one of them. There were no papers or memoranda in the murdered man's pocket, except a single telegram, dated from Cleveland about a month ago, and containing the words, 'J. H. is in Europe.' There was no name appended to this message.\"\n",
        "\n",
        "\"And there was nothing else?\" Holmes asked.\n",
        "\n",
        "\"Nothing of any importance. The man's novel, with which he had read himself to sleep, was lying upon the bed, and his pipe was on a chair beside him. There was a glass of water on the table, and on the window-sill a small chip ointment box containing a couple of pills.\"\n",
        "\n",
        "Sherlock Holmes sprang from his chair with an exclamation of delight.\n",
        "\n",
        "\"The last link,\" he cried, exultantly. \"My case is complete.\"\n",
        "\n",
        "The two detectives stared at him in amazement.\n",
        "\n",
        "\"I have now in my hands,\" my companion said, confidently, \"all the threads which have formed such a tangle. There are, of course, details to be filled in, but I am as certain of all the main facts, from the time that Drebber parted from Stangerson at the station, up to the discovery of the body of the latter, as if I had seen them with my own eyes. I will give you a proof of my knowledge. Could you lay your hand upon those pills?\"\n",
        "\n",
        "\"I have them,\" said Lestrade, producing a small white box; \"I took them and the purse and the telegram, intending to have them put in a place of safety at the police station. It was the merest chance my taking these pills, for I am bound to say that I do not attach any importance to them.\"\n",
        "\n",
        "\"Give them here,\" said Holmes. \"Now, Doctor,\" turning to me, \"are those ordinary pills?\"\n",
        "\n",
        "They certainly were not. They were of a pearly gray colour, small, round, and almost transparent against the light. \"From their lightness and transparency, I should imagine that they are soluble in water,\" I remarked.\n",
        "\n",
        "\"Precisely so,\" answered Holmes. \"Now would you mind going down and fetching that poor little devil of a terrier which has been bad so long, and which the landlady wanted you to put out of its pain yesterday?\"\n",
        "\n",
        "I went downstairs and carried the dog upstairs in my arms. Its laboured breathing and glazing eye showed that it was not far from its end. Indeed, its snow-white muzzle proclaimed that it had already exceeded the usual term of canine existence. I placed it upon a cushion on the rug.\n",
        "\n",
        "\"I will now cut one of these pills in two,\" said Holmes, and drawing his penknife he suited the action to the word. \"One half we return into the box for future purposes. The other half I will place in this wineglass, in which is a teaspoonful of water. You perceive that our friend, the doctor, is right, and that it readily dissolves.\"\n",
        "\n",
        "\"This may be very interesting,\" said Lestrade, in the injured tone of one who suspects that he is being laughed at; \"I cannot see, however, what it has to do with the death of Mr. Joseph Stangerson.\"\n",
        "\n",
        "\"Patience, my friend, patience! You will find in time that it has everything to do with it. I shall now add a little milk to make the mixture palatable, and on presenting it to the dog we find that he laps it up readily enough.\"\n",
        "\n",
        "As he spoke he turned the contents of the wineglass into a saucer and placed it in front of the terrier, who speedily licked it dry. Sherlock Holmes's earnest demeanour had so far convinced us that we all sat in silence, watching the animal intently, and expecting some startling effect. None such appeared, however. The dog continued to lie stretched upon the cushion, breathing in a laboured way, but apparently neither the better nor the worse for its draught.\n",
        "\n",
        "Holmes had taken out his watch, and as minute followed minute without result, an expression of the utmost chagrin and disappointment appeared upon his features. He gnawed his lip, drummed his fingers upon the table, and showed every other symptom of acute impatience. So great was his emotion that I felt sincerely sorry for him, while the two detectives smiled derisively, by no means displeased at this check which he had met.\n",
        "\n",
        "\"It can't be a coincidence,\" he cried, at last springing from his chair and pacing wildly up and down the room; \"it is impossible that it should be a mere coincidence. The very pills which I suspected in the case of Drebber are actually found after the death of Stangerson. And yet they are inert. What can it mean? Surely my whole chain of reasoning cannot have been false. It is impossible! And yet this wretched dog is none the worse. Ah, I have it! I have it!\" With a perfect shriek of delight he rushed to the box, cut the other pill in two, dissolved it, added milk, and presented it to the terrier. The unfortunate creature's tongue seemed hardly to have been moistened in it before it gave a convulsive shiver in every limb, and lay as rigid and lifeless as if it had been struck by lightning.\n",
        "\n",
        "Sherlock Holmes drew a long breath, and wiped the perspiration from his forehead. \"I should have more faith,\" he said; \"I ought to know by this time that when a fact appears to be opposed to a long train of deductions, it invariably proves to be capable of bearing some other interpretation. Of the two pills in that box, one was of the most deadly poison, and the other was entirely harmless. I ought to have known that before ever I saw the box at all.\"\n",
        "\n",
        "This last statement appeared to me to be so startling that I could hardly believe that he was in his sober senses. There was the dead dog, however, to prove that his conjecture had been correct. It seemed to me that the mists in my own mind were gradually clearing away, and I began to have a dim, vague perception of the truth.\n",
        "\n",
        "\"All this seems strange to you,\" continued Holmes, \"because you failed at the beginning of the inquiry to grasp the importance of the single real clue which was presented to you. I had the good fortune to seize upon that, and everything which has occurred since then has served to confirm my original supposition, and, indeed, was the logical sequence of it. Hence things which have perplexed you and made the case more obscure have served to enlighten me and to strengthen my conclusions. It is a mistake to confound strangeness with mystery. The most commonplace crime is often the most mysterious, because it presents no new or special features from which deductions may be drawn. This murder would have been infinitely more difficult to unravel had the body of the victim been simply found lying in the roadway without any of those outre and sensational accompaniments which have rendered it remarkable. These strange details, far from making the case more difficult, have really had the effect of making it less so.\"\n",
        "\n",
        "Mr. Gregson, who had listened to this address with considerable impatience, could contain himself n\n",
        "\"\"\""
      ],
      "metadata": {
        "id": "dGdfZyvDHwqN"
      },
      "execution_count": 1,
      "outputs": []
    },
    {
      "cell_type": "code",
      "source": [],
      "metadata": {
        "id": "JKBfZictHwPP"
      },
      "execution_count": 1,
      "outputs": []
    },
    {
      "cell_type": "code",
      "source": [
        "import tensorflow as tf\n",
        "from tensorflow.keras.preprocessing.text import Tokenizer"
      ],
      "metadata": {
        "id": "Fju_ozIsQcxk"
      },
      "execution_count": 2,
      "outputs": []
    },
    {
      "cell_type": "code",
      "source": [
        "tokenizer = Tokenizer()"
      ],
      "metadata": {
        "id": "Z83dQWbzQedP"
      },
      "execution_count": 3,
      "outputs": []
    },
    {
      "cell_type": "code",
      "source": [
        "tokenizer.fit_on_texts([faqs])"
      ],
      "metadata": {
        "id": "aKX0E6maQeaj"
      },
      "execution_count": 4,
      "outputs": []
    },
    {
      "cell_type": "code",
      "source": [
        "word_count = len(tokenizer.word_index)+1\n",
        "print(word_count)"
      ],
      "metadata": {
        "colab": {
          "base_uri": "https://localhost:8080/"
        },
        "collapsed": true,
        "id": "hvmJtzmkQeXR",
        "outputId": "c5fe1a62-e749-46ec-89fa-c6cbc7d7ee7b"
      },
      "execution_count": 5,
      "outputs": [
        {
          "output_type": "stream",
          "name": "stdout",
          "text": [
            "3481\n"
          ]
        }
      ]
    },
    {
      "cell_type": "code",
      "source": [
        "input_sequences = []\n",
        "output_sequences = []\n",
        "for sentence in faqs.split('.'):\n",
        "  tokenized_sentence = tokenizer.texts_to_sequences([sentence])[0]\n",
        "\n",
        "  for i in range(1,len(tokenized_sentence)):\n",
        "    input_sequences.append(tokenized_sentence[:i])\n",
        "    output_sequences.append(tokenized_sentence[i])"
      ],
      "metadata": {
        "collapsed": true,
        "id": "Igfekp3MQeUj"
      },
      "execution_count": 6,
      "outputs": []
    },
    {
      "cell_type": "code",
      "source": [
        "input_sequences[:10]"
      ],
      "metadata": {
        "colab": {
          "base_uri": "https://localhost:8080/"
        },
        "id": "ZoInKponQeRv",
        "outputId": "ebe4a9b9-4a71-4ef3-f3e9-7a78e1499665"
      },
      "execution_count": 7,
      "outputs": [
        {
          "output_type": "execute_result",
          "data": {
            "text/plain": [
              "[[6],\n",
              " [6, 216],\n",
              " [6, 216, 18],\n",
              " [6, 216, 18, 881],\n",
              " [6, 216, 18, 881, 3],\n",
              " [6, 216, 18, 881, 3, 234],\n",
              " [6, 216, 18, 881, 3, 234, 3],\n",
              " [6, 216, 18, 881, 3, 234, 3, 882],\n",
              " [6, 216, 18, 881, 3, 234, 3, 882, 3],\n",
              " [6, 216, 18, 881, 3, 234, 3, 882, 3, 1]]"
            ]
          },
          "metadata": {},
          "execution_count": 7
        }
      ]
    },
    {
      "cell_type": "code",
      "source": [
        "output_sequences[:10]"
      ],
      "metadata": {
        "colab": {
          "base_uri": "https://localhost:8080/"
        },
        "id": "0ZRUf_f3QeO0",
        "outputId": "c2eb0277-885f-4c00-937c-5412969ddc29"
      },
      "execution_count": 8,
      "outputs": [
        {
          "output_type": "execute_result",
          "data": {
            "text/plain": [
              "[216, 18, 881, 3, 234, 3, 882, 3, 1, 1462]"
            ]
          },
          "metadata": {},
          "execution_count": 8
        }
      ]
    },
    {
      "cell_type": "code",
      "source": [
        "max_len = max([len(x) for x in input_sequences])"
      ],
      "metadata": {
        "id": "po2hyBzxQeH7"
      },
      "execution_count": 9,
      "outputs": []
    },
    {
      "cell_type": "code",
      "source": [
        "max_len"
      ],
      "metadata": {
        "colab": {
          "base_uri": "https://localhost:8080/"
        },
        "id": "TvfO6q3G_DZ9",
        "outputId": "c72c9f14-1654-4817-bdf0-1cc425ac7aca"
      },
      "execution_count": 10,
      "outputs": [
        {
          "output_type": "execute_result",
          "data": {
            "text/plain": [
              "86"
            ]
          },
          "metadata": {},
          "execution_count": 10
        }
      ]
    },
    {
      "cell_type": "code",
      "source": [
        "from tensorflow.keras.preprocessing.sequence import pad_sequences\n",
        "padded_input_sequences = pad_sequences(input_sequences, maxlen=max_len, padding='pre')\n"
      ],
      "metadata": {
        "id": "HYUdvRTFQd5Z"
      },
      "execution_count": 11,
      "outputs": []
    },
    {
      "cell_type": "code",
      "source": [
        "padded_input_sequences"
      ],
      "metadata": {
        "colab": {
          "base_uri": "https://localhost:8080/"
        },
        "id": "cnp3Fvc494tf",
        "outputId": "72d5e820-d531-4ae5-e65d-91c2dc1c29f7"
      },
      "execution_count": 12,
      "outputs": [
        {
          "output_type": "execute_result",
          "data": {
            "text/plain": [
              "array([[   0,    0,    0, ...,    0,    0,    6],\n",
              "       [   0,    0,    0, ...,    0,    6,  216],\n",
              "       [   0,    0,    0, ...,    6,  216,   18],\n",
              "       ...,\n",
              "       [   0,    0,    0, ..., 1291, 1459,   59],\n",
              "       [   0,    0,    0, ..., 1459,   59, 3479],\n",
              "       [   0,    0,    0, ...,   59, 3479,   99]], dtype=int32)"
            ]
          },
          "metadata": {},
          "execution_count": 12
        }
      ]
    },
    {
      "cell_type": "code",
      "source": [
        "padded_input_sequences.shape"
      ],
      "metadata": {
        "colab": {
          "base_uri": "https://localhost:8080/"
        },
        "id": "w2TbUNTU-_qI",
        "outputId": "f811bed3-8260-4409-e0a5-ccf8df9f92ca"
      },
      "execution_count": 13,
      "outputs": [
        {
          "output_type": "execute_result",
          "data": {
            "text/plain": [
              "(17453, 86)"
            ]
          },
          "metadata": {},
          "execution_count": 13
        }
      ]
    },
    {
      "cell_type": "code",
      "source": [
        "# this is a classification problem\n",
        "# as 0.2 doesnt mean a sense, but 2 means the word that is mapped with 2 in our tokenized dictionary"
      ],
      "metadata": {
        "id": "c-t0JxNS_O4d"
      },
      "execution_count": 14,
      "outputs": []
    },
    {
      "cell_type": "code",
      "source": [
        "import numpy as np"
      ],
      "metadata": {
        "id": "BrvDxnYXAieJ"
      },
      "execution_count": 15,
      "outputs": []
    },
    {
      "cell_type": "code",
      "source": [
        "output_sequences = np.array(output_sequences)"
      ],
      "metadata": {
        "id": "LeIda88w_T44"
      },
      "execution_count": 16,
      "outputs": []
    },
    {
      "cell_type": "code",
      "source": [
        "output_sequences.shape"
      ],
      "metadata": {
        "colab": {
          "base_uri": "https://localhost:8080/"
        },
        "id": "Qbua7mSy_T0s",
        "outputId": "b8499042-35b2-4e8d-971c-57b360e3c2d9"
      },
      "execution_count": 17,
      "outputs": [
        {
          "output_type": "execute_result",
          "data": {
            "text/plain": [
              "(17453,)"
            ]
          },
          "metadata": {},
          "execution_count": 17
        }
      ]
    },
    {
      "cell_type": "code",
      "source": [
        "from tensorflow.keras.utils import to_categorical\n",
        "output_sequences = to_categorical(output_sequences,num_classes=word_count)"
      ],
      "metadata": {
        "id": "CD5F171a_TwM"
      },
      "execution_count": 18,
      "outputs": []
    },
    {
      "cell_type": "code",
      "source": [
        "output_sequences.shape"
      ],
      "metadata": {
        "colab": {
          "base_uri": "https://localhost:8080/"
        },
        "id": "3Xoeq7TU_Tr_",
        "outputId": "cae6a60f-0da5-4fb8-f7b5-1686506b1d9e"
      },
      "execution_count": 19,
      "outputs": [
        {
          "output_type": "execute_result",
          "data": {
            "text/plain": [
              "(17453, 3481)"
            ]
          },
          "metadata": {},
          "execution_count": 19
        }
      ]
    },
    {
      "cell_type": "code",
      "source": [
        "from tensorflow.keras.models import Sequential\n",
        "from tensorflow.keras.layers import Embedding, LSTM, Dense\n"
      ],
      "metadata": {
        "id": "nzkn3Wnk_To4"
      },
      "execution_count": 28,
      "outputs": []
    },
    {
      "cell_type": "code",
      "source": [
        "model = Sequential()\n",
        "model.add(Embedding(word_count,100,input_length=max_len))\n",
        "model.add(LSTM(150))\n",
        "model.add(Dense(word_count, activation='softmax'))"
      ],
      "metadata": {
        "id": "5NFgyj0i_TjP"
      },
      "execution_count": 30,
      "outputs": []
    },
    {
      "cell_type": "code",
      "source": [
        "model.compile(loss='categorical_crossentropy', optimizer='adam', metrics=['accuracy'])"
      ],
      "metadata": {
        "id": "oclyaEcc_TGq"
      },
      "execution_count": 31,
      "outputs": []
    },
    {
      "cell_type": "code",
      "source": [
        "model.build(input_shape=(None, max_len))\n",
        "model.summary()"
      ],
      "metadata": {
        "colab": {
          "base_uri": "https://localhost:8080/",
          "height": 230
        },
        "id": "MSNFW8AuDxcg",
        "outputId": "e24220e4-c59f-4008-fe43-32354ffa37a1"
      },
      "execution_count": 32,
      "outputs": [
        {
          "output_type": "display_data",
          "data": {
            "text/plain": [
              "\u001b[1mModel: \"sequential_3\"\u001b[0m\n"
            ],
            "text/html": [
              "<pre style=\"white-space:pre;overflow-x:auto;line-height:normal;font-family:Menlo,'DejaVu Sans Mono',consolas,'Courier New',monospace\"><span style=\"font-weight: bold\">Model: \"sequential_3\"</span>\n",
              "</pre>\n"
            ]
          },
          "metadata": {}
        },
        {
          "output_type": "display_data",
          "data": {
            "text/plain": [
              "┏━━━━━━━━━━━━━━━━━━━━━━━━━━━━━━━━━┳━━━━━━━━━━━━━━━━━━━━━━━━┳━━━━━━━━━━━━━━━┓\n",
              "┃\u001b[1m \u001b[0m\u001b[1mLayer (type)                   \u001b[0m\u001b[1m \u001b[0m┃\u001b[1m \u001b[0m\u001b[1mOutput Shape          \u001b[0m\u001b[1m \u001b[0m┃\u001b[1m \u001b[0m\u001b[1m      Param #\u001b[0m\u001b[1m \u001b[0m┃\n",
              "┡━━━━━━━━━━━━━━━━━━━━━━━━━━━━━━━━━╇━━━━━━━━━━━━━━━━━━━━━━━━╇━━━━━━━━━━━━━━━┩\n",
              "│ embedding_3 (\u001b[38;5;33mEmbedding\u001b[0m)         │ (\u001b[38;5;45mNone\u001b[0m, \u001b[38;5;34m86\u001b[0m, \u001b[38;5;34m100\u001b[0m)        │       \u001b[38;5;34m348,100\u001b[0m │\n",
              "├─────────────────────────────────┼────────────────────────┼───────────────┤\n",
              "│ lstm_3 (\u001b[38;5;33mLSTM\u001b[0m)                   │ (\u001b[38;5;45mNone\u001b[0m, \u001b[38;5;34m150\u001b[0m)            │       \u001b[38;5;34m150,600\u001b[0m │\n",
              "├─────────────────────────────────┼────────────────────────┼───────────────┤\n",
              "│ dense_3 (\u001b[38;5;33mDense\u001b[0m)                 │ (\u001b[38;5;45mNone\u001b[0m, \u001b[38;5;34m3481\u001b[0m)           │       \u001b[38;5;34m525,631\u001b[0m │\n",
              "└─────────────────────────────────┴────────────────────────┴───────────────┘\n"
            ],
            "text/html": [
              "<pre style=\"white-space:pre;overflow-x:auto;line-height:normal;font-family:Menlo,'DejaVu Sans Mono',consolas,'Courier New',monospace\">┏━━━━━━━━━━━━━━━━━━━━━━━━━━━━━━━━━┳━━━━━━━━━━━━━━━━━━━━━━━━┳━━━━━━━━━━━━━━━┓\n",
              "┃<span style=\"font-weight: bold\"> Layer (type)                    </span>┃<span style=\"font-weight: bold\"> Output Shape           </span>┃<span style=\"font-weight: bold\">       Param # </span>┃\n",
              "┡━━━━━━━━━━━━━━━━━━━━━━━━━━━━━━━━━╇━━━━━━━━━━━━━━━━━━━━━━━━╇━━━━━━━━━━━━━━━┩\n",
              "│ embedding_3 (<span style=\"color: #0087ff; text-decoration-color: #0087ff\">Embedding</span>)         │ (<span style=\"color: #00d7ff; text-decoration-color: #00d7ff\">None</span>, <span style=\"color: #00af00; text-decoration-color: #00af00\">86</span>, <span style=\"color: #00af00; text-decoration-color: #00af00\">100</span>)        │       <span style=\"color: #00af00; text-decoration-color: #00af00\">348,100</span> │\n",
              "├─────────────────────────────────┼────────────────────────┼───────────────┤\n",
              "│ lstm_3 (<span style=\"color: #0087ff; text-decoration-color: #0087ff\">LSTM</span>)                   │ (<span style=\"color: #00d7ff; text-decoration-color: #00d7ff\">None</span>, <span style=\"color: #00af00; text-decoration-color: #00af00\">150</span>)            │       <span style=\"color: #00af00; text-decoration-color: #00af00\">150,600</span> │\n",
              "├─────────────────────────────────┼────────────────────────┼───────────────┤\n",
              "│ dense_3 (<span style=\"color: #0087ff; text-decoration-color: #0087ff\">Dense</span>)                 │ (<span style=\"color: #00d7ff; text-decoration-color: #00d7ff\">None</span>, <span style=\"color: #00af00; text-decoration-color: #00af00\">3481</span>)           │       <span style=\"color: #00af00; text-decoration-color: #00af00\">525,631</span> │\n",
              "└─────────────────────────────────┴────────────────────────┴───────────────┘\n",
              "</pre>\n"
            ]
          },
          "metadata": {}
        },
        {
          "output_type": "display_data",
          "data": {
            "text/plain": [
              "\u001b[1m Total params: \u001b[0m\u001b[38;5;34m1,024,331\u001b[0m (3.91 MB)\n"
            ],
            "text/html": [
              "<pre style=\"white-space:pre;overflow-x:auto;line-height:normal;font-family:Menlo,'DejaVu Sans Mono',consolas,'Courier New',monospace\"><span style=\"font-weight: bold\"> Total params: </span><span style=\"color: #00af00; text-decoration-color: #00af00\">1,024,331</span> (3.91 MB)\n",
              "</pre>\n"
            ]
          },
          "metadata": {}
        },
        {
          "output_type": "display_data",
          "data": {
            "text/plain": [
              "\u001b[1m Trainable params: \u001b[0m\u001b[38;5;34m1,024,331\u001b[0m (3.91 MB)\n"
            ],
            "text/html": [
              "<pre style=\"white-space:pre;overflow-x:auto;line-height:normal;font-family:Menlo,'DejaVu Sans Mono',consolas,'Courier New',monospace\"><span style=\"font-weight: bold\"> Trainable params: </span><span style=\"color: #00af00; text-decoration-color: #00af00\">1,024,331</span> (3.91 MB)\n",
              "</pre>\n"
            ]
          },
          "metadata": {}
        },
        {
          "output_type": "display_data",
          "data": {
            "text/plain": [
              "\u001b[1m Non-trainable params: \u001b[0m\u001b[38;5;34m0\u001b[0m (0.00 B)\n"
            ],
            "text/html": [
              "<pre style=\"white-space:pre;overflow-x:auto;line-height:normal;font-family:Menlo,'DejaVu Sans Mono',consolas,'Courier New',monospace\"><span style=\"font-weight: bold\"> Non-trainable params: </span><span style=\"color: #00af00; text-decoration-color: #00af00\">0</span> (0.00 B)\n",
              "</pre>\n"
            ]
          },
          "metadata": {}
        }
      ]
    },
    {
      "cell_type": "code",
      "source": [
        "model.fit(padded_input_sequences,output_sequences, epochs=100)"
      ],
      "metadata": {
        "colab": {
          "base_uri": "https://localhost:8080/"
        },
        "id": "cynYBROsDzM0",
        "outputId": "5813ada3-fe8c-4b6c-f8e9-4819e06c8dde"
      },
      "execution_count": 33,
      "outputs": [
        {
          "output_type": "stream",
          "name": "stdout",
          "text": [
            "Epoch 1/100\n",
            "\u001b[1m546/546\u001b[0m \u001b[32m━━━━━━━━━━━━━━━━━━━━\u001b[0m\u001b[37m\u001b[0m \u001b[1m6s\u001b[0m 8ms/step - accuracy: 0.0482 - loss: 6.8971\n",
            "Epoch 2/100\n",
            "\u001b[1m546/546\u001b[0m \u001b[32m━━━━━━━━━━━━━━━━━━━━\u001b[0m\u001b[37m\u001b[0m \u001b[1m4s\u001b[0m 7ms/step - accuracy: 0.0704 - loss: 6.1422\n",
            "Epoch 3/100\n",
            "\u001b[1m546/546\u001b[0m \u001b[32m━━━━━━━━━━━━━━━━━━━━\u001b[0m\u001b[37m\u001b[0m \u001b[1m6s\u001b[0m 8ms/step - accuracy: 0.0891 - loss: 5.8115\n",
            "Epoch 4/100\n",
            "\u001b[1m546/546\u001b[0m \u001b[32m━━━━━━━━━━━━━━━━━━━━\u001b[0m\u001b[37m\u001b[0m \u001b[1m4s\u001b[0m 7ms/step - accuracy: 0.1076 - loss: 5.4971\n",
            "Epoch 5/100\n",
            "\u001b[1m546/546\u001b[0m \u001b[32m━━━━━━━━━━━━━━━━━━━━\u001b[0m\u001b[37m\u001b[0m \u001b[1m4s\u001b[0m 7ms/step - accuracy: 0.1296 - loss: 5.1396\n",
            "Epoch 6/100\n",
            "\u001b[1m546/546\u001b[0m \u001b[32m━━━━━━━━━━━━━━━━━━━━\u001b[0m\u001b[37m\u001b[0m \u001b[1m6s\u001b[0m 8ms/step - accuracy: 0.1427 - loss: 4.8518\n",
            "Epoch 7/100\n",
            "\u001b[1m546/546\u001b[0m \u001b[32m━━━━━━━━━━━━━━━━━━━━\u001b[0m\u001b[37m\u001b[0m \u001b[1m4s\u001b[0m 7ms/step - accuracy: 0.1564 - loss: 4.5718\n",
            "Epoch 8/100\n",
            "\u001b[1m546/546\u001b[0m \u001b[32m━━━━━━━━━━━━━━━━━━━━\u001b[0m\u001b[37m\u001b[0m \u001b[1m4s\u001b[0m 8ms/step - accuracy: 0.1689 - loss: 4.3195\n",
            "Epoch 9/100\n",
            "\u001b[1m546/546\u001b[0m \u001b[32m━━━━━━━━━━━━━━━━━━━━\u001b[0m\u001b[37m\u001b[0m \u001b[1m5s\u001b[0m 9ms/step - accuracy: 0.2027 - loss: 3.9996\n",
            "Epoch 10/100\n",
            "\u001b[1m546/546\u001b[0m \u001b[32m━━━━━━━━━━━━━━━━━━━━\u001b[0m\u001b[37m\u001b[0m \u001b[1m4s\u001b[0m 7ms/step - accuracy: 0.2330 - loss: 3.7714\n",
            "Epoch 11/100\n",
            "\u001b[1m546/546\u001b[0m \u001b[32m━━━━━━━━━━━━━━━━━━━━\u001b[0m\u001b[37m\u001b[0m \u001b[1m6s\u001b[0m 8ms/step - accuracy: 0.2736 - loss: 3.5011\n",
            "Epoch 12/100\n",
            "\u001b[1m546/546\u001b[0m \u001b[32m━━━━━━━━━━━━━━━━━━━━\u001b[0m\u001b[37m\u001b[0m \u001b[1m4s\u001b[0m 7ms/step - accuracy: 0.3116 - loss: 3.2724\n",
            "Epoch 13/100\n",
            "\u001b[1m546/546\u001b[0m \u001b[32m━━━━━━━━━━━━━━━━━━━━\u001b[0m\u001b[37m\u001b[0m \u001b[1m5s\u001b[0m 7ms/step - accuracy: 0.3558 - loss: 3.0450\n",
            "Epoch 14/100\n",
            "\u001b[1m546/546\u001b[0m \u001b[32m━━━━━━━━━━━━━━━━━━━━\u001b[0m\u001b[37m\u001b[0m \u001b[1m5s\u001b[0m 8ms/step - accuracy: 0.4084 - loss: 2.8072\n",
            "Epoch 15/100\n",
            "\u001b[1m546/546\u001b[0m \u001b[32m━━━━━━━━━━━━━━━━━━━━\u001b[0m\u001b[37m\u001b[0m \u001b[1m5s\u001b[0m 7ms/step - accuracy: 0.4520 - loss: 2.5763\n",
            "Epoch 16/100\n",
            "\u001b[1m546/546\u001b[0m \u001b[32m━━━━━━━━━━━━━━━━━━━━\u001b[0m\u001b[37m\u001b[0m \u001b[1m4s\u001b[0m 7ms/step - accuracy: 0.4966 - loss: 2.3811\n",
            "Epoch 17/100\n",
            "\u001b[1m546/546\u001b[0m \u001b[32m━━━━━━━━━━━━━━━━━━━━\u001b[0m\u001b[37m\u001b[0m \u001b[1m5s\u001b[0m 8ms/step - accuracy: 0.5358 - loss: 2.1913\n",
            "Epoch 18/100\n",
            "\u001b[1m546/546\u001b[0m \u001b[32m━━━━━━━━━━━━━━━━━━━━\u001b[0m\u001b[37m\u001b[0m \u001b[1m4s\u001b[0m 7ms/step - accuracy: 0.5671 - loss: 2.0414\n",
            "Epoch 19/100\n",
            "\u001b[1m546/546\u001b[0m \u001b[32m━━━━━━━━━━━━━━━━━━━━\u001b[0m\u001b[37m\u001b[0m \u001b[1m4s\u001b[0m 8ms/step - accuracy: 0.6035 - loss: 1.8774\n",
            "Epoch 20/100\n",
            "\u001b[1m546/546\u001b[0m \u001b[32m━━━━━━━━━━━━━━━━━━━━\u001b[0m\u001b[37m\u001b[0m \u001b[1m5s\u001b[0m 7ms/step - accuracy: 0.6383 - loss: 1.7292\n",
            "Epoch 21/100\n",
            "\u001b[1m546/546\u001b[0m \u001b[32m━━━━━━━━━━━━━━━━━━━━\u001b[0m\u001b[37m\u001b[0m \u001b[1m4s\u001b[0m 7ms/step - accuracy: 0.6673 - loss: 1.5994\n",
            "Epoch 22/100\n",
            "\u001b[1m546/546\u001b[0m \u001b[32m━━━━━━━━━━━━━━━━━━━━\u001b[0m\u001b[37m\u001b[0m \u001b[1m6s\u001b[0m 8ms/step - accuracy: 0.6988 - loss: 1.4737\n",
            "Epoch 23/100\n",
            "\u001b[1m546/546\u001b[0m \u001b[32m━━━━━━━━━━━━━━━━━━━━\u001b[0m\u001b[37m\u001b[0m \u001b[1m4s\u001b[0m 7ms/step - accuracy: 0.7269 - loss: 1.3492\n",
            "Epoch 24/100\n",
            "\u001b[1m546/546\u001b[0m \u001b[32m━━━━━━━━━━━━━━━━━━━━\u001b[0m\u001b[37m\u001b[0m \u001b[1m4s\u001b[0m 7ms/step - accuracy: 0.7497 - loss: 1.2605\n",
            "Epoch 25/100\n",
            "\u001b[1m546/546\u001b[0m \u001b[32m━━━━━━━━━━━━━━━━━━━━\u001b[0m\u001b[37m\u001b[0m \u001b[1m5s\u001b[0m 7ms/step - accuracy: 0.7716 - loss: 1.1513\n",
            "Epoch 26/100\n",
            "\u001b[1m546/546\u001b[0m \u001b[32m━━━━━━━━━━━━━━━━━━━━\u001b[0m\u001b[37m\u001b[0m \u001b[1m5s\u001b[0m 7ms/step - accuracy: 0.7946 - loss: 1.0489\n",
            "Epoch 27/100\n",
            "\u001b[1m546/546\u001b[0m \u001b[32m━━━━━━━━━━━━━━━━━━━━\u001b[0m\u001b[37m\u001b[0m \u001b[1m6s\u001b[0m 8ms/step - accuracy: 0.8069 - loss: 0.9652\n",
            "Epoch 28/100\n",
            "\u001b[1m546/546\u001b[0m \u001b[32m━━━━━━━━━━━━━━━━━━━━\u001b[0m\u001b[37m\u001b[0m \u001b[1m5s\u001b[0m 7ms/step - accuracy: 0.8236 - loss: 0.8988\n",
            "Epoch 29/100\n",
            "\u001b[1m546/546\u001b[0m \u001b[32m━━━━━━━━━━━━━━━━━━━━\u001b[0m\u001b[37m\u001b[0m \u001b[1m6s\u001b[0m 8ms/step - accuracy: 0.8471 - loss: 0.8118\n",
            "Epoch 30/100\n",
            "\u001b[1m546/546\u001b[0m \u001b[32m━━━━━━━━━━━━━━━━━━━━\u001b[0m\u001b[37m\u001b[0m \u001b[1m4s\u001b[0m 7ms/step - accuracy: 0.8584 - loss: 0.7561\n",
            "Epoch 31/100\n",
            "\u001b[1m546/546\u001b[0m \u001b[32m━━━━━━━━━━━━━━━━━━━━\u001b[0m\u001b[37m\u001b[0m \u001b[1m5s\u001b[0m 7ms/step - accuracy: 0.8681 - loss: 0.7037\n",
            "Epoch 32/100\n",
            "\u001b[1m546/546\u001b[0m \u001b[32m━━━━━━━━━━━━━━━━━━━━\u001b[0m\u001b[37m\u001b[0m \u001b[1m5s\u001b[0m 8ms/step - accuracy: 0.8795 - loss: 0.6419\n",
            "Epoch 33/100\n",
            "\u001b[1m546/546\u001b[0m \u001b[32m━━━━━━━━━━━━━━━━━━━━\u001b[0m\u001b[37m\u001b[0m \u001b[1m4s\u001b[0m 7ms/step - accuracy: 0.8901 - loss: 0.5979\n",
            "Epoch 34/100\n",
            "\u001b[1m546/546\u001b[0m \u001b[32m━━━━━━━━━━━━━━━━━━━━\u001b[0m\u001b[37m\u001b[0m \u001b[1m4s\u001b[0m 8ms/step - accuracy: 0.8971 - loss: 0.5615\n",
            "Epoch 35/100\n",
            "\u001b[1m546/546\u001b[0m \u001b[32m━━━━━━━━━━━━━━━━━━━━\u001b[0m\u001b[37m\u001b[0m \u001b[1m4s\u001b[0m 8ms/step - accuracy: 0.9090 - loss: 0.5102\n",
            "Epoch 36/100\n",
            "\u001b[1m546/546\u001b[0m \u001b[32m━━━━━━━━━━━━━━━━━━━━\u001b[0m\u001b[37m\u001b[0m \u001b[1m4s\u001b[0m 7ms/step - accuracy: 0.9155 - loss: 0.4673\n",
            "Epoch 37/100\n",
            "\u001b[1m546/546\u001b[0m \u001b[32m━━━━━━━━━━━━━━━━━━━━\u001b[0m\u001b[37m\u001b[0m \u001b[1m4s\u001b[0m 8ms/step - accuracy: 0.9187 - loss: 0.4376\n",
            "Epoch 38/100\n",
            "\u001b[1m546/546\u001b[0m \u001b[32m━━━━━━━━━━━━━━━━━━━━\u001b[0m\u001b[37m\u001b[0m \u001b[1m5s\u001b[0m 7ms/step - accuracy: 0.9199 - loss: 0.4196\n",
            "Epoch 39/100\n",
            "\u001b[1m546/546\u001b[0m \u001b[32m━━━━━━━━━━━━━━━━━━━━\u001b[0m\u001b[37m\u001b[0m \u001b[1m4s\u001b[0m 7ms/step - accuracy: 0.9287 - loss: 0.3723\n",
            "Epoch 40/100\n",
            "\u001b[1m546/546\u001b[0m \u001b[32m━━━━━━━━━━━━━━━━━━━━\u001b[0m\u001b[37m\u001b[0m \u001b[1m6s\u001b[0m 8ms/step - accuracy: 0.9291 - loss: 0.3496\n",
            "Epoch 41/100\n",
            "\u001b[1m546/546\u001b[0m \u001b[32m━━━━━━━━━━━━━━━━━━━━\u001b[0m\u001b[37m\u001b[0m \u001b[1m5s\u001b[0m 7ms/step - accuracy: 0.9265 - loss: 0.3480\n",
            "Epoch 42/100\n",
            "\u001b[1m546/546\u001b[0m \u001b[32m━━━━━━━━━━━━━━━━━━━━\u001b[0m\u001b[37m\u001b[0m \u001b[1m6s\u001b[0m 8ms/step - accuracy: 0.9321 - loss: 0.3229\n",
            "Epoch 43/100\n",
            "\u001b[1m546/546\u001b[0m \u001b[32m━━━━━━━━━━━━━━━━━━━━\u001b[0m\u001b[37m\u001b[0m \u001b[1m4s\u001b[0m 7ms/step - accuracy: 0.9365 - loss: 0.2959\n",
            "Epoch 44/100\n",
            "\u001b[1m546/546\u001b[0m \u001b[32m━━━━━━━━━━━━━━━━━━━━\u001b[0m\u001b[37m\u001b[0m \u001b[1m4s\u001b[0m 7ms/step - accuracy: 0.9348 - loss: 0.2880\n",
            "Epoch 45/100\n",
            "\u001b[1m546/546\u001b[0m \u001b[32m━━━━━━━━━━━━━━━━━━━━\u001b[0m\u001b[37m\u001b[0m \u001b[1m4s\u001b[0m 8ms/step - accuracy: 0.9354 - loss: 0.2767\n",
            "Epoch 46/100\n",
            "\u001b[1m546/546\u001b[0m \u001b[32m━━━━━━━━━━━━━━━━━━━━\u001b[0m\u001b[37m\u001b[0m \u001b[1m4s\u001b[0m 7ms/step - accuracy: 0.9389 - loss: 0.2607\n",
            "Epoch 47/100\n",
            "\u001b[1m546/546\u001b[0m \u001b[32m━━━━━━━━━━━━━━━━━━━━\u001b[0m\u001b[37m\u001b[0m \u001b[1m4s\u001b[0m 7ms/step - accuracy: 0.9380 - loss: 0.2587\n",
            "Epoch 48/100\n",
            "\u001b[1m546/546\u001b[0m \u001b[32m━━━━━━━━━━━━━━━━━━━━\u001b[0m\u001b[37m\u001b[0m \u001b[1m4s\u001b[0m 8ms/step - accuracy: 0.9378 - loss: 0.2487\n",
            "Epoch 49/100\n",
            "\u001b[1m546/546\u001b[0m \u001b[32m━━━━━━━━━━━━━━━━━━━━\u001b[0m\u001b[37m\u001b[0m \u001b[1m5s\u001b[0m 7ms/step - accuracy: 0.9360 - loss: 0.2462\n",
            "Epoch 50/100\n",
            "\u001b[1m546/546\u001b[0m \u001b[32m━━━━━━━━━━━━━━━━━━━━\u001b[0m\u001b[37m\u001b[0m \u001b[1m4s\u001b[0m 7ms/step - accuracy: 0.9389 - loss: 0.2357\n",
            "Epoch 51/100\n",
            "\u001b[1m546/546\u001b[0m \u001b[32m━━━━━━━━━━━━━━━━━━━━\u001b[0m\u001b[37m\u001b[0m \u001b[1m5s\u001b[0m 8ms/step - accuracy: 0.9388 - loss: 0.2265\n",
            "Epoch 52/100\n",
            "\u001b[1m546/546\u001b[0m \u001b[32m━━━━━━━━━━━━━━━━━━━━\u001b[0m\u001b[37m\u001b[0m \u001b[1m4s\u001b[0m 7ms/step - accuracy: 0.9405 - loss: 0.2157\n",
            "Epoch 53/100\n",
            "\u001b[1m546/546\u001b[0m \u001b[32m━━━━━━━━━━━━━━━━━━━━\u001b[0m\u001b[37m\u001b[0m \u001b[1m4s\u001b[0m 7ms/step - accuracy: 0.9384 - loss: 0.2241\n",
            "Epoch 54/100\n",
            "\u001b[1m546/546\u001b[0m \u001b[32m━━━━━━━━━━━━━━━━━━━━\u001b[0m\u001b[37m\u001b[0m \u001b[1m5s\u001b[0m 8ms/step - accuracy: 0.9421 - loss: 0.2066\n",
            "Epoch 55/100\n",
            "\u001b[1m546/546\u001b[0m \u001b[32m━━━━━━━━━━━━━━━━━━━━\u001b[0m\u001b[37m\u001b[0m \u001b[1m5s\u001b[0m 7ms/step - accuracy: 0.9423 - loss: 0.2002\n",
            "Epoch 56/100\n",
            "\u001b[1m546/546\u001b[0m \u001b[32m━━━━━━━━━━━━━━━━━━━━\u001b[0m\u001b[37m\u001b[0m \u001b[1m5s\u001b[0m 8ms/step - accuracy: 0.9410 - loss: 0.2033\n",
            "Epoch 57/100\n",
            "\u001b[1m546/546\u001b[0m \u001b[32m━━━━━━━━━━━━━━━━━━━━\u001b[0m\u001b[37m\u001b[0m \u001b[1m4s\u001b[0m 7ms/step - accuracy: 0.9394 - loss: 0.2094\n",
            "Epoch 58/100\n",
            "\u001b[1m546/546\u001b[0m \u001b[32m━━━━━━━━━━━━━━━━━━━━\u001b[0m\u001b[37m\u001b[0m \u001b[1m4s\u001b[0m 7ms/step - accuracy: 0.9407 - loss: 0.2095\n",
            "Epoch 59/100\n",
            "\u001b[1m546/546\u001b[0m \u001b[32m━━━━━━━━━━━━━━━━━━━━\u001b[0m\u001b[37m\u001b[0m \u001b[1m6s\u001b[0m 9ms/step - accuracy: 0.9365 - loss: 0.2158\n",
            "Epoch 60/100\n",
            "\u001b[1m546/546\u001b[0m \u001b[32m━━━━━━━━━━━━━━━━━━━━\u001b[0m\u001b[37m\u001b[0m \u001b[1m5s\u001b[0m 9ms/step - accuracy: 0.9388 - loss: 0.2009\n",
            "Epoch 61/100\n",
            "\u001b[1m546/546\u001b[0m \u001b[32m━━━━━━━━━━━━━━━━━━━━\u001b[0m\u001b[37m\u001b[0m \u001b[1m5s\u001b[0m 9ms/step - accuracy: 0.9406 - loss: 0.1981\n",
            "Epoch 62/100\n",
            "\u001b[1m546/546\u001b[0m \u001b[32m━━━━━━━━━━━━━━━━━━━━\u001b[0m\u001b[37m\u001b[0m \u001b[1m5s\u001b[0m 8ms/step - accuracy: 0.9394 - loss: 0.1969\n",
            "Epoch 63/100\n",
            "\u001b[1m546/546\u001b[0m \u001b[32m━━━━━━━━━━━━━━━━━━━━\u001b[0m\u001b[37m\u001b[0m \u001b[1m5s\u001b[0m 8ms/step - accuracy: 0.9395 - loss: 0.1977\n",
            "Epoch 64/100\n",
            "\u001b[1m546/546\u001b[0m \u001b[32m━━━━━━━━━━━━━━━━━━━━\u001b[0m\u001b[37m\u001b[0m \u001b[1m5s\u001b[0m 9ms/step - accuracy: 0.9392 - loss: 0.1943\n",
            "Epoch 65/100\n",
            "\u001b[1m546/546\u001b[0m \u001b[32m━━━━━━━━━━━━━━━━━━━━\u001b[0m\u001b[37m\u001b[0m \u001b[1m4s\u001b[0m 7ms/step - accuracy: 0.9417 - loss: 0.1875\n",
            "Epoch 66/100\n",
            "\u001b[1m546/546\u001b[0m \u001b[32m━━━━━━━━━━━━━━━━━━━━\u001b[0m\u001b[37m\u001b[0m \u001b[1m5s\u001b[0m 10ms/step - accuracy: 0.9415 - loss: 0.2005\n",
            "Epoch 67/100\n",
            "\u001b[1m546/546\u001b[0m \u001b[32m━━━━━━━━━━━━━━━━━━━━\u001b[0m\u001b[37m\u001b[0m \u001b[1m9s\u001b[0m 8ms/step - accuracy: 0.9401 - loss: 0.1988\n",
            "Epoch 68/100\n",
            "\u001b[1m546/546\u001b[0m \u001b[32m━━━━━━━━━━━━━━━━━━━━\u001b[0m\u001b[37m\u001b[0m \u001b[1m6s\u001b[0m 9ms/step - accuracy: 0.9408 - loss: 0.1905\n",
            "Epoch 69/100\n",
            "\u001b[1m546/546\u001b[0m \u001b[32m━━━━━━━━━━━━━━━━━━━━\u001b[0m\u001b[37m\u001b[0m \u001b[1m4s\u001b[0m 7ms/step - accuracy: 0.9387 - loss: 0.1850\n",
            "Epoch 70/100\n",
            "\u001b[1m546/546\u001b[0m \u001b[32m━━━━━━━━━━━━━━━━━━━━\u001b[0m\u001b[37m\u001b[0m \u001b[1m4s\u001b[0m 7ms/step - accuracy: 0.9403 - loss: 0.1841\n",
            "Epoch 71/100\n",
            "\u001b[1m546/546\u001b[0m \u001b[32m━━━━━━━━━━━━━━━━━━━━\u001b[0m\u001b[37m\u001b[0m \u001b[1m5s\u001b[0m 7ms/step - accuracy: 0.9382 - loss: 0.1906\n",
            "Epoch 72/100\n",
            "\u001b[1m546/546\u001b[0m \u001b[32m━━━━━━━━━━━━━━━━━━━━\u001b[0m\u001b[37m\u001b[0m \u001b[1m5s\u001b[0m 8ms/step - accuracy: 0.9427 - loss: 0.1780\n",
            "Epoch 73/100\n",
            "\u001b[1m546/546\u001b[0m \u001b[32m━━━━━━━━━━━━━━━━━━━━\u001b[0m\u001b[37m\u001b[0m \u001b[1m6s\u001b[0m 9ms/step - accuracy: 0.9414 - loss: 0.1782\n",
            "Epoch 74/100\n",
            "\u001b[1m546/546\u001b[0m \u001b[32m━━━━━━━━━━━━━━━━━━━━\u001b[0m\u001b[37m\u001b[0m \u001b[1m4s\u001b[0m 8ms/step - accuracy: 0.9435 - loss: 0.1794\n",
            "Epoch 75/100\n",
            "\u001b[1m546/546\u001b[0m \u001b[32m━━━━━━━━━━━━━━━━━━━━\u001b[0m\u001b[37m\u001b[0m \u001b[1m4s\u001b[0m 8ms/step - accuracy: 0.9401 - loss: 0.1864\n",
            "Epoch 76/100\n",
            "\u001b[1m546/546\u001b[0m \u001b[32m━━━━━━━━━━━━━━━━━━━━\u001b[0m\u001b[37m\u001b[0m \u001b[1m6s\u001b[0m 9ms/step - accuracy: 0.9422 - loss: 0.1780\n",
            "Epoch 77/100\n",
            "\u001b[1m546/546\u001b[0m \u001b[32m━━━━━━━━━━━━━━━━━━━━\u001b[0m\u001b[37m\u001b[0m \u001b[1m4s\u001b[0m 8ms/step - accuracy: 0.9381 - loss: 0.1943\n",
            "Epoch 78/100\n",
            "\u001b[1m546/546\u001b[0m \u001b[32m━━━━━━━━━━━━━━━━━━━━\u001b[0m\u001b[37m\u001b[0m \u001b[1m6s\u001b[0m 9ms/step - accuracy: 0.9290 - loss: 0.2349\n",
            "Epoch 79/100\n",
            "\u001b[1m546/546\u001b[0m \u001b[32m━━━━━━━━━━━━━━━━━━━━\u001b[0m\u001b[37m\u001b[0m \u001b[1m4s\u001b[0m 8ms/step - accuracy: 0.9392 - loss: 0.1893\n",
            "Epoch 80/100\n",
            "\u001b[1m546/546\u001b[0m \u001b[32m━━━━━━━━━━━━━━━━━━━━\u001b[0m\u001b[37m\u001b[0m \u001b[1m6s\u001b[0m 9ms/step - accuracy: 0.9414 - loss: 0.1836\n",
            "Epoch 81/100\n",
            "\u001b[1m546/546\u001b[0m \u001b[32m━━━━━━━━━━━━━━━━━━━━\u001b[0m\u001b[37m\u001b[0m \u001b[1m5s\u001b[0m 9ms/step - accuracy: 0.9373 - loss: 0.1876\n",
            "Epoch 82/100\n",
            "\u001b[1m546/546\u001b[0m \u001b[32m━━━━━━━━━━━━━━━━━━━━\u001b[0m\u001b[37m\u001b[0m \u001b[1m4s\u001b[0m 7ms/step - accuracy: 0.9402 - loss: 0.1791\n",
            "Epoch 83/100\n",
            "\u001b[1m546/546\u001b[0m \u001b[32m━━━━━━━━━━━━━━━━━━━━\u001b[0m\u001b[37m\u001b[0m \u001b[1m5s\u001b[0m 9ms/step - accuracy: 0.9402 - loss: 0.1782\n",
            "Epoch 84/100\n",
            "\u001b[1m546/546\u001b[0m \u001b[32m━━━━━━━━━━━━━━━━━━━━\u001b[0m\u001b[37m\u001b[0m \u001b[1m4s\u001b[0m 7ms/step - accuracy: 0.9362 - loss: 0.1901\n",
            "Epoch 85/100\n",
            "\u001b[1m546/546\u001b[0m \u001b[32m━━━━━━━━━━━━━━━━━━━━\u001b[0m\u001b[37m\u001b[0m \u001b[1m6s\u001b[0m 8ms/step - accuracy: 0.9383 - loss: 0.1852\n",
            "Epoch 86/100\n",
            "\u001b[1m546/546\u001b[0m \u001b[32m━━━━━━━━━━━━━━━━━━━━\u001b[0m\u001b[37m\u001b[0m \u001b[1m5s\u001b[0m 9ms/step - accuracy: 0.9407 - loss: 0.1789\n",
            "Epoch 87/100\n",
            "\u001b[1m546/546\u001b[0m \u001b[32m━━━━━━━━━━━━━━━━━━━━\u001b[0m\u001b[37m\u001b[0m \u001b[1m4s\u001b[0m 7ms/step - accuracy: 0.9395 - loss: 0.1822\n",
            "Epoch 88/100\n",
            "\u001b[1m546/546\u001b[0m \u001b[32m━━━━━━━━━━━━━━━━━━━━\u001b[0m\u001b[37m\u001b[0m \u001b[1m6s\u001b[0m 9ms/step - accuracy: 0.9369 - loss: 0.1897\n",
            "Epoch 89/100\n",
            "\u001b[1m546/546\u001b[0m \u001b[32m━━━━━━━━━━━━━━━━━━━━\u001b[0m\u001b[37m\u001b[0m \u001b[1m5s\u001b[0m 8ms/step - accuracy: 0.9396 - loss: 0.1892\n",
            "Epoch 90/100\n",
            "\u001b[1m546/546\u001b[0m \u001b[32m━━━━━━━━━━━━━━━━━━━━\u001b[0m\u001b[37m\u001b[0m \u001b[1m6s\u001b[0m 9ms/step - accuracy: 0.9352 - loss: 0.2062\n",
            "Epoch 91/100\n",
            "\u001b[1m546/546\u001b[0m \u001b[32m━━━━━━━━━━━━━━━━━━━━\u001b[0m\u001b[37m\u001b[0m \u001b[1m5s\u001b[0m 8ms/step - accuracy: 0.9386 - loss: 0.1877\n",
            "Epoch 92/100\n",
            "\u001b[1m546/546\u001b[0m \u001b[32m━━━━━━━━━━━━━━━━━━━━\u001b[0m\u001b[37m\u001b[0m \u001b[1m5s\u001b[0m 7ms/step - accuracy: 0.9357 - loss: 0.1915\n",
            "Epoch 93/100\n",
            "\u001b[1m546/546\u001b[0m \u001b[32m━━━━━━━━━━━━━━━━━━━━\u001b[0m\u001b[37m\u001b[0m \u001b[1m5s\u001b[0m 8ms/step - accuracy: 0.9392 - loss: 0.1845\n",
            "Epoch 94/100\n",
            "\u001b[1m546/546\u001b[0m \u001b[32m━━━━━━━━━━━━━━━━━━━━\u001b[0m\u001b[37m\u001b[0m \u001b[1m4s\u001b[0m 7ms/step - accuracy: 0.9383 - loss: 0.1757\n",
            "Epoch 95/100\n",
            "\u001b[1m546/546\u001b[0m \u001b[32m━━━━━━━━━━━━━━━━━━━━\u001b[0m\u001b[37m\u001b[0m \u001b[1m5s\u001b[0m 7ms/step - accuracy: 0.9376 - loss: 0.1837\n",
            "Epoch 96/100\n",
            "\u001b[1m546/546\u001b[0m \u001b[32m━━━━━━━━━━━━━━━━━━━━\u001b[0m\u001b[37m\u001b[0m \u001b[1m6s\u001b[0m 9ms/step - accuracy: 0.9396 - loss: 0.1749\n",
            "Epoch 97/100\n",
            "\u001b[1m546/546\u001b[0m \u001b[32m━━━━━━━━━━━━━━━━━━━━\u001b[0m\u001b[37m\u001b[0m \u001b[1m4s\u001b[0m 7ms/step - accuracy: 0.9424 - loss: 0.1731\n",
            "Epoch 98/100\n",
            "\u001b[1m546/546\u001b[0m \u001b[32m━━━━━━━━━━━━━━━━━━━━\u001b[0m\u001b[37m\u001b[0m \u001b[1m6s\u001b[0m 10ms/step - accuracy: 0.9423 - loss: 0.1721\n",
            "Epoch 99/100\n",
            "\u001b[1m546/546\u001b[0m \u001b[32m━━━━━━━━━━━━━━━━━━━━\u001b[0m\u001b[37m\u001b[0m \u001b[1m10s\u001b[0m 9ms/step - accuracy: 0.9419 - loss: 0.1733\n",
            "Epoch 100/100\n",
            "\u001b[1m546/546\u001b[0m \u001b[32m━━━━━━━━━━━━━━━━━━━━\u001b[0m\u001b[37m\u001b[0m \u001b[1m4s\u001b[0m 7ms/step - accuracy: 0.9394 - loss: 0.1794\n"
          ]
        },
        {
          "output_type": "execute_result",
          "data": {
            "text/plain": [
              "<keras.src.callbacks.history.History at 0x7850119ef1d0>"
            ]
          },
          "metadata": {},
          "execution_count": 33
        }
      ]
    },
    {
      "cell_type": "code",
      "source": [
        "text = \"Heaven\"\n",
        "\n",
        "\n",
        "for _ in range(8):\n",
        "  #tokenize\n",
        "  token_text = tokenizer.texts_to_sequences([text])[0]\n",
        "  #padding\n",
        "  padded_token_text = pad_sequences([token_text], maxlen=max_len, padding='pre')\n",
        "  #predict\n",
        "  ans = np.argmax(model.predict(padded_token_text))\n",
        "\n",
        "  for word, index in tokenizer.word_index.items():\n",
        "    if index == ans:\n",
        "      text = text + \" \" + word\n",
        "      print(text)\n",
        "\n"
      ],
      "metadata": {
        "colab": {
          "base_uri": "https://localhost:8080/"
        },
        "id": "YF43q32JFjUt",
        "outputId": "2d2fe4e8-dc01-41ce-b913-b90f235ad061"
      },
      "execution_count": 67,
      "outputs": [
        {
          "output_type": "stream",
          "name": "stdout",
          "text": [
            "\u001b[1m1/1\u001b[0m \u001b[32m━━━━━━━━━━━━━━━━━━━━\u001b[0m\u001b[37m\u001b[0m \u001b[1m0s\u001b[0m 33ms/step\n",
            "Heaven knows\n",
            "\u001b[1m1/1\u001b[0m \u001b[32m━━━━━━━━━━━━━━━━━━━━\u001b[0m\u001b[37m\u001b[0m \u001b[1m0s\u001b[0m 31ms/step\n",
            "Heaven knows what\n",
            "\u001b[1m1/1\u001b[0m \u001b[32m━━━━━━━━━━━━━━━━━━━━\u001b[0m\u001b[37m\u001b[0m \u001b[1m0s\u001b[0m 32ms/step\n",
            "Heaven knows what the\n",
            "\u001b[1m1/1\u001b[0m \u001b[32m━━━━━━━━━━━━━━━━━━━━\u001b[0m\u001b[37m\u001b[0m \u001b[1m0s\u001b[0m 28ms/step\n",
            "Heaven knows what the objects\n",
            "\u001b[1m1/1\u001b[0m \u001b[32m━━━━━━━━━━━━━━━━━━━━\u001b[0m\u001b[37m\u001b[0m \u001b[1m0s\u001b[0m 28ms/step\n",
            "Heaven knows what the objects of\n",
            "\u001b[1m1/1\u001b[0m \u001b[32m━━━━━━━━━━━━━━━━━━━━\u001b[0m\u001b[37m\u001b[0m \u001b[1m0s\u001b[0m 30ms/step\n",
            "Heaven knows what the objects of his\n",
            "\u001b[1m1/1\u001b[0m \u001b[32m━━━━━━━━━━━━━━━━━━━━\u001b[0m\u001b[37m\u001b[0m \u001b[1m0s\u001b[0m 31ms/step\n",
            "Heaven knows what the objects of his studies\n",
            "\u001b[1m1/1\u001b[0m \u001b[32m━━━━━━━━━━━━━━━━━━━━\u001b[0m\u001b[37m\u001b[0m \u001b[1m0s\u001b[0m 30ms/step\n",
            "Heaven knows what the objects of his studies are\n"
          ]
        }
      ]
    },
    {
      "cell_type": "code",
      "source": [],
      "metadata": {
        "id": "evHa-FjXLbaU"
      },
      "execution_count": null,
      "outputs": []
    }
  ]
}